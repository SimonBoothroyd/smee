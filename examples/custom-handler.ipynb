{
 "cells": [
  {
   "cell_type": "markdown",
   "source": [
    "# Custom Parameter Handlers\n",
    "\n",
    "This example shows how custom parameter handlers can be used with `smee`, showcasing how the Lennard-Jones (LJ) potential can be swapped with a double exponential (DEXP) potential.\n",
    "\n",
    "**Note:** this behaviour is currently experimental and not as fully tested as the built-in parameter handlers.\n",
    "\n",
    "In order to use a custom potential in `smee`, we must register the function that will be used to evaluate the potential energy:"
   ],
   "metadata": {
    "collapsed": false
   },
   "id": "8ab18dcc8493164d"
  },
  {
   "cell_type": "code",
   "execution_count": 1,
   "outputs": [
    {
     "data": {
      "text/plain": "",
      "application/vnd.jupyter.widget-view+json": {
       "version_major": 2,
       "version_minor": 0,
       "model_id": "53b2527c16884c5f85caef949a3f23c9"
      }
     },
     "metadata": {},
     "output_type": "display_data"
    }
   ],
   "source": [
    "import torch\n",
    "\n",
    "import smee\n",
    "import smee.potentials.nonbonded\n",
    "\n",
    "\n",
    "@smee.potentials.potential_energy_fn(\"vdW\", \"dexp\")\n",
    "def compute_dexp_energy(\n",
    "    conformer: torch.Tensor,\n",
    "    parameters: torch.Tensor,\n",
    "    exclusions: torch.Tensor,\n",
    "    exclusion_scales: torch.Tensor,\n",
    "    attributes: torch.Tensor,\n",
    ") -> torch.Tensor:\n",
    "    \"\"\"Evaluates the potential energy [kcal / mol] of the vdW interactions using the\n",
    "    double-exponential potential.\n",
    "\n",
    "    Args:\n",
    "        conformer: The conformer [Å] to evaluate the potential at.\n",
    "        parameters: A tensor containing the epsilon [kcal / mol] and r_min [Å] values\n",
    "            of each particle, with ``shape=(n_particles, 2)``.\n",
    "        exclusions: A tensor containing pairs of atom indices whose interaction should\n",
    "            be scaled by ``exclusion_scales`` with ``shape=(n_exclusions, 2)``.\n",
    "        exclusion_scales: A tensor containing the scale factor for each exclusion pair\n",
    "            with ``shape=(n_exclusions, 1)``.\n",
    "        attributes: A tensor containing the global alpha and beta values, and the\n",
    "            scale_12, scale_13, scale_14, and scale_15 values with ``shape=(6,)``.\n",
    "\n",
    "    Returns:\n",
    "        The evaluated potential energy [kcal / mol].\n",
    "    \"\"\"\n",
    "\n",
    "    is_batched = conformer.ndim == 3\n",
    "\n",
    "    if not is_batched:\n",
    "        conformer = torch.unsqueeze(conformer, 0)\n",
    "\n",
    "    # pair_idxs will contain the particle idxs of each interacting pair\n",
    "    # while pair_scales will contain any scaling factor (e.g. 1-2, 1-3)\n",
    "    pair_idxs, rij_sqr, pair_scales = smee.potentials.nonbonded.compute_pairwise(\n",
    "        conformer, exclusions, exclusion_scales\n",
    "    )\n",
    "\n",
    "    epsilon, r_min = smee.potentials.nonbonded.lorentz_berthelot(\n",
    "        parameters[pair_idxs[:, 0], 0],\n",
    "        parameters[pair_idxs[:, 1], 0],\n",
    "        parameters[pair_idxs[:, 0], 1],\n",
    "        parameters[pair_idxs[:, 1], 1],\n",
    "    )\n",
    "    alpha, beta = attributes[-2], attributes[-1]\n",
    "\n",
    "    x = torch.sqrt(rij_sqr) / r_min\n",
    "\n",
    "    energy_repulsion = beta / (alpha - beta) * torch.exp(alpha * (1.0 - x))\n",
    "    energy_attraction = alpha / (alpha - beta) * torch.exp(beta * (1.0 - x))\n",
    "\n",
    "    energy = (pair_scales * epsilon * (energy_repulsion - energy_attraction)).sum(-1)\n",
    "\n",
    "    if not is_batched:\n",
    "        energy = torch.squeeze(energy, 0)\n",
    "\n",
    "    return energy"
   ],
   "metadata": {
    "collapsed": false,
    "ExecuteTime": {
     "end_time": "2023-09-16T13:22:28.793803Z",
     "start_time": "2023-09-16T13:22:25.868271Z"
    }
   },
   "id": "be245e683b3bf818"
  },
  {
   "cell_type": "markdown",
   "source": [
    "There are then two mains routes that can be taken to make use of this function \n",
    "\n",
    "1. we can manually convert an interchange object that uses LJ by default to use DEXP, and then simply call `smee.compute_energy`.\n",
    "2. we can register a function using a `smee.ff.parameter_converter` decorator that converts ``SMIRNOFFDoubleExponentialCollection`` into tensor form, such that any interchange objects containing such a parameter collection can automatically be converted by `smee.convert_interchange`.\n",
    "\n",
    "## Converting an existing LJ potential\n",
    "\n",
    "We will begin with the first option. First we will define our molecule of interest and assign standard parameters:"
   ],
   "metadata": {
    "collapsed": false
   },
   "id": "bea044e9bb68e1d8"
  },
  {
   "cell_type": "code",
   "execution_count": 2,
   "outputs": [],
   "source": [
    "import openff.interchange\n",
    "import openff.toolkit\n",
    "import openff.units\n",
    "\n",
    "molecule = openff.toolkit.Molecule.from_smiles(\"CCCC\")\n",
    "molecule.generate_conformers(n_conformers=1)\n",
    "\n",
    "conformer = torch.tensor(molecule.conformers[0].m_as(openff.units.unit.angstrom))\n",
    "\n",
    "interchange = openff.interchange.Interchange.from_smirnoff(\n",
    "    openff.toolkit.ForceField(\"openff-2.0.0.offxml\"), molecule.to_topology()\n",
    ")"
   ],
   "metadata": {
    "collapsed": false,
    "ExecuteTime": {
     "end_time": "2023-09-16T13:22:30.739454Z",
     "start_time": "2023-09-16T13:22:28.840469Z"
    }
   },
   "id": "4d75ce3adb356bad"
  },
  {
   "cell_type": "markdown",
   "source": [
    "We will then map it into tensor form"
   ],
   "metadata": {
    "collapsed": false
   },
   "id": "7eabccd521282c31"
  },
  {
   "cell_type": "code",
   "execution_count": 3,
   "outputs": [],
   "source": [
    "force_field, [topology] = smee.convert_interchange(interchange)"
   ],
   "metadata": {
    "collapsed": false,
    "ExecuteTime": {
     "end_time": "2023-09-16T13:22:30.753795Z",
     "start_time": "2023-09-16T13:22:30.741760Z"
    }
   },
   "id": "1a81864ef3b83a49"
  },
  {
   "cell_type": "markdown",
   "source": [
    "The vdW potential handler can be accessed via the `force_field` object:"
   ],
   "metadata": {
    "collapsed": false
   },
   "id": "ed1ffad3b2784af"
  },
  {
   "cell_type": "code",
   "execution_count": 4,
   "outputs": [
    {
     "name": "stdout",
     "output_type": "stream",
     "text": [
      "ENERGY FN= 4*epsilon*((sigma/r)**12-(sigma/r)**6)\n",
      "PARAMETER COLUMNS= ('epsilon', 'sigma')\n",
      "ATTRIBUTE COLUMNS= ('scale_12', 'scale_13', 'scale_14', 'scale_15')\n"
     ]
    }
   ],
   "source": [
    "vdw_potential = force_field.potentials_by_type[\"vdW\"]\n",
    "\n",
    "print(\"ENERGY FN=\", vdw_potential.fn)\n",
    "print(\"PARAMETER COLUMNS=\", vdw_potential.parameter_cols)\n",
    "print(\"ATTRIBUTE COLUMNS=\", vdw_potential.attribute_cols)"
   ],
   "metadata": {
    "collapsed": false,
    "ExecuteTime": {
     "end_time": "2023-09-16T13:22:30.758034Z",
     "start_time": "2023-09-16T13:22:30.754198Z"
    }
   },
   "id": "80ed952cd024c446"
  },
  {
   "cell_type": "markdown",
   "source": [
    "We set the potential energy function to be `dexp` as we declared above:"
   ],
   "metadata": {
    "collapsed": false
   },
   "id": "726e252f0b98a5bc"
  },
  {
   "cell_type": "code",
   "execution_count": 5,
   "outputs": [],
   "source": [
    "vdw_potential.fn = \"dexp\""
   ],
   "metadata": {
    "collapsed": false,
    "ExecuteTime": {
     "end_time": "2023-09-16T13:22:30.786192Z",
     "start_time": "2023-09-16T13:22:30.761321Z"
    }
   },
   "id": "220fb1bca3518fa6"
  },
  {
   "cell_type": "markdown",
   "source": [
    "convert the LJ `sigma` parameters into `r_min`:"
   ],
   "metadata": {
    "collapsed": false
   },
   "id": "9aead84e09f6bf3b"
  },
  {
   "cell_type": "code",
   "execution_count": 6,
   "outputs": [],
   "source": [
    "parameter_columns = [*vdw_potential.parameter_cols]\n",
    "sigma_col_idx = vdw_potential.parameter_cols.index(\"sigma\")\n",
    "\n",
    "sigma = vdw_potential.parameters[:, sigma_col_idx]\n",
    "r_min = 2 ** (1 / 6) * sigma\n",
    "\n",
    "vdw_potential.parameters[:, sigma_col_idx] = r_min\n",
    "\n",
    "parameter_columns[sigma_col_idx] = \"r_min\"\n",
    "vdw_potential.parameter_cols = tuple(parameter_columns)"
   ],
   "metadata": {
    "collapsed": false,
    "ExecuteTime": {
     "end_time": "2023-09-16T13:22:30.794916Z",
     "start_time": "2023-09-16T13:22:30.766469Z"
    }
   },
   "id": "a8eb5440f0528c6b"
  },
  {
   "cell_type": "markdown",
   "source": [
    "and add alpha and beta attributes:"
   ],
   "metadata": {
    "collapsed": false
   },
   "id": "ca4de189d717cdeb"
  },
  {
   "cell_type": "code",
   "execution_count": 7,
   "outputs": [],
   "source": [
    "vdw_potential.attribute_cols = (*vdw_potential.attribute_cols, \"alpha\", \"beta\")\n",
    "vdw_potential.attributes = torch.cat(\n",
    "    [vdw_potential.attributes, torch.tensor([16.5, 5.0])]\n",
    ")"
   ],
   "metadata": {
    "collapsed": false,
    "ExecuteTime": {
     "end_time": "2023-09-16T13:22:30.795287Z",
     "start_time": "2023-09-16T13:22:30.769269Z"
    }
   },
   "id": "c6fe0e53f51dc32e"
  },
  {
   "cell_type": "markdown",
   "source": [
    "The energy can then be computed by the normal means:"
   ],
   "metadata": {
    "collapsed": false
   },
   "id": "413ce708e8e407a4"
  },
  {
   "cell_type": "code",
   "execution_count": 8,
   "outputs": [
    {
     "name": "stdout",
     "output_type": "stream",
     "text": [
      "Energy = 25.896 kcal / mol\n"
     ]
    }
   ],
   "source": [
    "energy = smee.compute_energy(topology.parameters, conformer, force_field)\n",
    "print(f\"Energy = {energy.item():.3f} kcal / mol\")"
   ],
   "metadata": {
    "collapsed": false,
    "ExecuteTime": {
     "end_time": "2023-09-16T13:22:30.795424Z",
     "start_time": "2023-09-16T13:22:30.775269Z"
    }
   },
   "id": "46d4aad0457349fb"
  },
  {
   "cell_type": "markdown",
   "source": [
    "## Defining a custom parameter converter\n",
    "\n",
    "The more long term solution to supporting custom parameter handlers is by defining a converter for the custom interchange collection.\n",
    "\n",
    "In general this should be as simple as calling out to the built-in convert, and simply specifying which parameters and handler attributes to expect, and what units they should be converted to."
   ],
   "metadata": {
    "collapsed": false
   },
   "id": "6db36fd0dbbcd53b"
  },
  {
   "cell_type": "code",
   "execution_count": 9,
   "outputs": [],
   "source": [
    "from smirnoff_plugins.collections.nonbonded import SMIRNOFFDoubleExponentialCollection\n",
    "\n",
    "import smee.ff.nonbonded\n",
    "\n",
    "KCAL_PER_MOL = openff.units.unit.kilocalories / openff.units.unit.mole\n",
    "ANGSTROM = openff.units.unit.angstrom\n",
    "\n",
    "UNITLESS = openff.units.unit.dimensionless\n",
    "\n",
    "\n",
    "@smee.ff.parameter_converter(\n",
    "    \"DoubleExponential\",\n",
    "    {\n",
    "        \"epsilon\": KCAL_PER_MOL,\n",
    "        \"r_min\": ANGSTROM,\n",
    "        \"alpha\": UNITLESS,\n",
    "        \"beta\": UNITLESS,\n",
    "        \"scale_12\": UNITLESS,\n",
    "        \"scale_13\": UNITLESS,\n",
    "        \"scale_14\": UNITLESS,\n",
    "        \"scale_15\": UNITLESS,\n",
    "    },\n",
    ")\n",
    "def convert_dexp(\n",
    "    handlers: list[SMIRNOFFDoubleExponentialCollection],\n",
    "    topologies: list[openff.toolkit.Topology],\n",
    "    v_site_maps: list[smee.ff.VSiteMap | None],\n",
    ") -> tuple[smee.ff.TensorPotential, list[smee.ff.NonbondedParameterMap]]:\n",
    "    potential, parameter_maps = smee.ff.nonbonded.convert_nonbonded_handlers(\n",
    "        handlers,\n",
    "        \"DoubleExponential\",\n",
    "        topologies,\n",
    "        v_site_maps,\n",
    "        (\"epsilon\", \"r_min\"),\n",
    "        (\"alpha\", \"beta\"),\n",
    "    )\n",
    "    potential.fn = \"dexp\"\n",
    "\n",
    "    return potential, parameter_maps"
   ],
   "metadata": {
    "collapsed": false,
    "ExecuteTime": {
     "end_time": "2023-09-16T13:22:30.795818Z",
     "start_time": "2023-09-16T13:22:30.785785Z"
    }
   },
   "id": "9ee7665147a67411"
  },
  {
   "cell_type": "markdown",
   "source": [
    "You might notice that this function expects a list of double exponential collections rather than just a single one. This is because `smee` can convert multiple interchange objects at once and in doing so aggregate any found parameters into a single force field.\n",
    "\n",
    "We must also -reregister the potential energy function that we defined above but this time setting the type to `'DoubleExponential'` as this is the name of the custom parameter handler:"
   ],
   "metadata": {
    "collapsed": false
   },
   "id": "1ace34618ddb4ff0"
  },
  {
   "cell_type": "code",
   "execution_count": 10,
   "outputs": [],
   "source": [
    "smee.potentials.potential_energy_fn(\"DoubleExponential\", \"dexp\")(compute_dexp_energy);"
   ],
   "metadata": {
    "collapsed": false,
    "ExecuteTime": {
     "end_time": "2023-09-16T13:22:30.796104Z",
     "start_time": "2023-09-16T13:22:30.790698Z"
    }
   },
   "id": "a567f83a64356296"
  },
  {
   "cell_type": "markdown",
   "source": [
    "We can then define a new interchange containing our custom parameter handler:"
   ],
   "metadata": {
    "collapsed": false
   },
   "id": "3fea4d95ca7330b2"
  },
  {
   "cell_type": "code",
   "execution_count": 11,
   "outputs": [
    {
     "data": {
      "text/plain": "Interchange with 3 collections, non-periodic topology with 14 atoms."
     },
     "execution_count": 11,
     "metadata": {},
     "output_type": "execute_result"
    }
   ],
   "source": [
    "dexp_force_field = openff.toolkit.ForceField(load_plugins=True)\n",
    "dexp_force_field.get_parameter_handler(\"Electrostatics\")\n",
    "\n",
    "charge_handler = dexp_force_field.get_parameter_handler(\"LibraryCharges\")\n",
    "charge_handler.add_parameter({\"smirks\": \"[*:1]\", \"charge1\": 0.0 * openff.units.unit.e})\n",
    "\n",
    "dexp_handler = dexp_force_field.get_parameter_handler(\"DoubleExponential\")\n",
    "dexp_handler.alpha = 16.5 * UNITLESS\n",
    "dexp_handler.beta = 5.0 * UNITLESS\n",
    "dexp_handler.add_parameter(\n",
    "    {\"smirks\": \"[#6:1]\", \"epsilon\": 0.1 * KCAL_PER_MOL, \"r_min\": 3.0 * ANGSTROM}\n",
    ")\n",
    "dexp_handler.add_parameter(\n",
    "    {\"smirks\": \"[#1:1]\", \"epsilon\": 0.01 * KCAL_PER_MOL, \"r_min\": 1.0 * ANGSTROM}\n",
    ")\n",
    "\n",
    "dexp_interchange = openff.interchange.Interchange.from_smirnoff(\n",
    "    dexp_force_field, molecule.to_topology()\n",
    ")\n",
    "dexp_interchange"
   ],
   "metadata": {
    "collapsed": false,
    "ExecuteTime": {
     "end_time": "2023-09-16T13:22:30.842448Z",
     "start_time": "2023-09-16T13:22:30.798661Z"
    }
   },
   "id": "f2b464b47c2be1a5"
  },
  {
   "cell_type": "markdown",
   "source": [
    "The interchange containing the custom DEXP handler can then be converted into tensor form:"
   ],
   "metadata": {
    "collapsed": false
   },
   "id": "5f416fda931f0511"
  },
  {
   "cell_type": "code",
   "execution_count": 12,
   "outputs": [],
   "source": [
    "dexp_tensor_ff, [dexp_topology] = smee.convert_interchange(dexp_interchange)"
   ],
   "metadata": {
    "collapsed": false,
    "ExecuteTime": {
     "end_time": "2023-09-16T13:22:30.842622Z",
     "start_time": "2023-09-16T13:22:30.836200Z"
    }
   },
   "id": "1ee1d214ebd6c37f"
  },
  {
   "cell_type": "markdown",
   "source": [
    "The potential energy can then be computed as normal:"
   ],
   "metadata": {
    "collapsed": false
   },
   "id": "d7fbe67469c1327b"
  },
  {
   "cell_type": "code",
   "execution_count": 13,
   "outputs": [
    {
     "name": "stdout",
     "output_type": "stream",
     "text": [
      "Energy = -0.054 kcal / mol\n"
     ]
    }
   ],
   "source": [
    "energy = smee.compute_energy(dexp_topology.parameters, conformer, dexp_tensor_ff)\n",
    "print(f\"Energy = {energy.item():.3f} kcal / mol\")"
   ],
   "metadata": {
    "collapsed": false,
    "ExecuteTime": {
     "end_time": "2023-09-16T13:22:30.859366Z",
     "start_time": "2023-09-16T13:22:30.843166Z"
    }
   },
   "id": "f26971fccb03c79b"
  }
 ],
 "metadata": {
  "kernelspec": {
   "display_name": "Python 3",
   "language": "python",
   "name": "python3"
  },
  "language_info": {
   "codemirror_mode": {
    "name": "ipython",
    "version": 2
   },
   "file_extension": ".py",
   "mimetype": "text/x-python",
   "name": "python",
   "nbconvert_exporter": "python",
   "pygments_lexer": "ipython2",
   "version": "2.7.6"
  }
 },
 "nbformat": 4,
 "nbformat_minor": 5
}
