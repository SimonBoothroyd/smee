{
 "cells": [
  {
   "cell_type": "markdown",
   "source": [
    "# Custom Parameter Handlers\n",
    "\n",
    "This example shows how custom parameter handlers can be used with `smee`, showcasing how the Lennard-Jones (LJ) potential can be swapped with a double exponential (DEXP) potential.\n",
    "\n",
    "**Note:** this behaviour is currently experimental and not as fully tested as the built-in parameter handlers.\n",
    "\n",
    "In order to use a custom potential in `smee`, we must register the function that will be used to evaluate the potential energy:"
   ],
   "metadata": {
    "collapsed": false
   },
   "id": "8ab18dcc8493164d"
  },
  {
   "cell_type": "code",
   "execution_count": 1,
   "outputs": [],
   "source": [
    "import torch\n",
    "\n",
    "import smee\n",
    "import smee.potentials.nonbonded\n",
    "import smee.utils\n",
    "\n",
    "\n",
    "@smee.potentials.potential_energy_fn(\"vdW\", \"dexp\")\n",
    "def compute_dexp_energy(\n",
    "    system: smee.TensorSystem,\n",
    "    potential: smee.TensorPotential,\n",
    "    conformer: torch.Tensor,\n",
    "    box_vectors: torch.Tensor | None = None,\n",
    "    pairwise: smee.potentials.nonbonded.PairwiseDistances | None = None,\n",
    ") -> torch.Tensor:\n",
    "    \"\"\"Compute the potential energy [kcal / mol] of the vdW interactions using the\n",
    "    double-exponential potential.\n",
    "\n",
    "    Notes:\n",
    "        * No cutoff function will be applied if the system is not periodic.\n",
    "\n",
    "    Args:\n",
    "        system: The system to compute the energy for.\n",
    "        potential: The potential energy function to evaluate.\n",
    "        conformer: The conformer [Å] to evaluate the potential at with\n",
    "            ``shape=(n_confs, n_particles, 3)`` or ``shape=(n_particles, 3)``.\n",
    "        box_vectors: The box vectors [Å] of the system with ``shape=(n_confs, 3, 3)``\n",
    "            or ``shape=(3, 3)`` if the system is periodic, or ``None`` otherwise.\n",
    "        pairwise: Pre-computed distances between each pair of particles\n",
    "            in the system.\n",
    "\n",
    "    Returns:\n",
    "        The evaluated potential energy [kcal / mol].\n",
    "    \"\"\"\n",
    "\n",
    "    is_batched = conformer.ndim == 3\n",
    "\n",
    "    if is_batched and system.is_periodic:\n",
    "        raise NotImplementedError(\n",
    "            \"batch computing periodic energies is not yet supported\"\n",
    "        )\n",
    "\n",
    "    cutoff = potential.attributes[potential.attribute_cols.index(\"cutoff\")]\n",
    "\n",
    "    # if pairwise distances have not already been pre-computed, compute them now.\n",
    "    # this function will also apply the cutoff function if the system is periodic.\n",
    "    if pairwise is None:\n",
    "        pairwise = smee.potentials.nonbonded.compute_pairwise(\n",
    "            system, conformer, box_vectors, cutoff\n",
    "        )\n",
    "\n",
    "    if system.is_periodic and not torch.isclose(pairwise.cutoff, cutoff):\n",
    "        raise ValueError(\"the pairwise cutoff does not match the potential.\")\n",
    "\n",
    "    # determine any scaling factors for each pair (e.g. 1-2, 1-3, 1-4)\n",
    "    pair_scales = smee.potentials.nonbonded.compute_pairwise_scales(system, potential)\n",
    "    # this will be a 1D array contain the scale factor for *every* pair of particles in\n",
    "    # the system. as some pairs shouldn't have their interaction computed (e.g. they\n",
    "    # are further apart than the cutoff) we will need to filter this array using the\n",
    "    # indices of the actual found interactions\n",
    "    pair_idxs_1d = smee.utils.to_upper_tri_idx(\n",
    "        pairwise.idxs[:, 0], pairwise.idxs[:, 1], system.n_particles\n",
    "    )\n",
    "    pair_scales = pair_scales[pair_idxs_1d]\n",
    "\n",
    "    # 'broadcast' (i.e. copy) the parameters of each topology for every instance.\n",
    "    parameters = smee.potentials.broadcast_parameters(system, potential)\n",
    "\n",
    "    epsilon_column = potential.parameter_cols.index(\"epsilon\")\n",
    "    r_min_column = potential.parameter_cols.index(\"r_min\")\n",
    "\n",
    "    epsilon, r_min = smee.potentials.nonbonded.lorentz_berthelot(\n",
    "        parameters[pairwise.idxs[:, 0], epsilon_column],\n",
    "        parameters[pairwise.idxs[:, 1], epsilon_column],\n",
    "        parameters[pairwise.idxs[:, 0], r_min_column],\n",
    "        parameters[pairwise.idxs[:, 1], r_min_column],\n",
    "    )\n",
    "\n",
    "    alpha = potential.attributes[potential.attribute_cols.index(\"alpha\")]\n",
    "    beta = potential.attributes[potential.attribute_cols.index(\"beta\")]\n",
    "\n",
    "    x = pairwise.distances / r_min\n",
    "\n",
    "    energy_repulsion = beta / (alpha - beta) * torch.exp(alpha * (1.0 - x))\n",
    "    energy_attraction = alpha / (alpha - beta) * torch.exp(beta * (1.0 - x))\n",
    "\n",
    "    energy = (pair_scales * epsilon * (energy_repulsion - energy_attraction)).sum(-1)\n",
    "    return energy"
   ],
   "metadata": {
    "collapsed": false,
    "ExecuteTime": {
     "end_time": "2023-10-17T21:17:34.318042Z",
     "start_time": "2023-10-17T21:17:31.970263Z"
    }
   },
   "id": "be245e683b3bf818"
  },
  {
   "cell_type": "markdown",
   "source": [
    "There are then two mains routes that can be taken to make use of this function \n",
    "\n",
    "1. we can manually convert an interchange object that uses LJ by default to use DEXP, and then simply call `smee.compute_energy`.\n",
    "2. we can register a function using a `smee.ff.parameter_converter` decorator that converts ``SMIRNOFFDoubleExponentialCollection`` into tensor form, such that any interchange objects containing such a parameter collection can automatically be converted by `smee.convert_interchange`.\n",
    "\n",
    "## Converting an existing LJ potential\n",
    "\n",
    "We will begin with the first option. First we will define our molecule of interest and assign standard parameters:"
   ],
   "metadata": {
    "collapsed": false
   },
   "id": "bea044e9bb68e1d8"
  },
  {
   "cell_type": "code",
   "execution_count": 2,
   "outputs": [
    {
     "data": {
      "text/plain": "",
      "application/vnd.jupyter.widget-view+json": {
       "version_major": 2,
       "version_minor": 0,
       "model_id": "85a537797687454e93877b6490dea8ef"
      }
     },
     "metadata": {},
     "output_type": "display_data"
    }
   ],
   "source": [
    "import openff.interchange\n",
    "import openff.toolkit\n",
    "import openff.units\n",
    "\n",
    "molecule = openff.toolkit.Molecule.from_smiles(\"CCCC\")\n",
    "molecule.generate_conformers(n_conformers=1)\n",
    "\n",
    "conformer = torch.tensor(molecule.conformers[0].m_as(openff.units.unit.angstrom))\n",
    "\n",
    "interchange = openff.interchange.Interchange.from_smirnoff(\n",
    "    openff.toolkit.ForceField(\"openff-2.0.0.offxml\"), molecule.to_topology()\n",
    ")"
   ],
   "metadata": {
    "collapsed": false,
    "ExecuteTime": {
     "end_time": "2023-10-17T21:17:36.117359Z",
     "start_time": "2023-10-17T21:17:34.352705Z"
    }
   },
   "id": "4d75ce3adb356bad"
  },
  {
   "cell_type": "markdown",
   "source": [
    "We will then map it into tensor form"
   ],
   "metadata": {
    "collapsed": false
   },
   "id": "7eabccd521282c31"
  },
  {
   "cell_type": "code",
   "execution_count": 3,
   "outputs": [],
   "source": [
    "import smee.converters\n",
    "\n",
    "lj_tensor_ff, [lj_topology] = smee.converters.convert_interchange(interchange)"
   ],
   "metadata": {
    "collapsed": false,
    "ExecuteTime": {
     "end_time": "2023-10-17T21:17:36.124212Z",
     "start_time": "2023-10-17T21:17:36.112282Z"
    }
   },
   "id": "1a81864ef3b83a49"
  },
  {
   "cell_type": "markdown",
   "source": [
    "The vdW potential handler can be accessed via the `force_field` object:"
   ],
   "metadata": {
    "collapsed": false
   },
   "id": "ed1ffad3b2784af"
  },
  {
   "cell_type": "code",
   "execution_count": 4,
   "outputs": [
    {
     "name": "stdout",
     "output_type": "stream",
     "text": [
      "ENERGY FN= 4*epsilon*((sigma/r)**12-(sigma/r)**6)\n",
      "PARAMETER COLUMNS= ('epsilon', 'sigma')\n",
      "ATTRIBUTE COLUMNS= ('scale_12', 'scale_13', 'scale_14', 'scale_15', 'cutoff', 'switch_width')\n"
     ]
    }
   ],
   "source": [
    "vdw_potential = lj_tensor_ff.potentials_by_type[\"vdW\"]\n",
    "\n",
    "print(\"ENERGY FN=\", vdw_potential.fn)\n",
    "print(\"PARAMETER COLUMNS=\", vdw_potential.parameter_cols)\n",
    "print(\"ATTRIBUTE COLUMNS=\", vdw_potential.attribute_cols)"
   ],
   "metadata": {
    "collapsed": false,
    "ExecuteTime": {
     "end_time": "2023-10-17T21:17:36.135962Z",
     "start_time": "2023-10-17T21:17:36.125751Z"
    }
   },
   "id": "80ed952cd024c446"
  },
  {
   "cell_type": "markdown",
   "source": [
    "We set the potential energy function to be `dexp` as we declared above:"
   ],
   "metadata": {
    "collapsed": false
   },
   "id": "726e252f0b98a5bc"
  },
  {
   "cell_type": "code",
   "execution_count": 5,
   "outputs": [],
   "source": [
    "vdw_potential.fn = \"dexp\""
   ],
   "metadata": {
    "collapsed": false,
    "ExecuteTime": {
     "end_time": "2023-10-17T21:17:36.136076Z",
     "start_time": "2023-10-17T21:17:36.132235Z"
    }
   },
   "id": "220fb1bca3518fa6"
  },
  {
   "cell_type": "markdown",
   "source": [
    "convert the LJ `sigma` parameters into `r_min`:"
   ],
   "metadata": {
    "collapsed": false
   },
   "id": "9aead84e09f6bf3b"
  },
  {
   "cell_type": "code",
   "execution_count": 6,
   "outputs": [],
   "source": [
    "parameter_columns = [*vdw_potential.parameter_cols]\n",
    "sigma_col_idx = vdw_potential.parameter_cols.index(\"sigma\")\n",
    "\n",
    "sigma = vdw_potential.parameters[:, sigma_col_idx]\n",
    "r_min = 2 ** (1 / 6) * sigma\n",
    "\n",
    "vdw_potential.parameters[:, sigma_col_idx] = r_min\n",
    "\n",
    "parameter_columns[sigma_col_idx] = \"r_min\"\n",
    "vdw_potential.parameter_cols = tuple(parameter_columns)"
   ],
   "metadata": {
    "collapsed": false,
    "ExecuteTime": {
     "end_time": "2023-10-17T21:17:36.189529Z",
     "start_time": "2023-10-17T21:17:36.136150Z"
    }
   },
   "id": "a8eb5440f0528c6b"
  },
  {
   "cell_type": "markdown",
   "source": [
    "and add alpha and beta attributes:"
   ],
   "metadata": {
    "collapsed": false
   },
   "id": "ca4de189d717cdeb"
  },
  {
   "cell_type": "code",
   "execution_count": 7,
   "outputs": [],
   "source": [
    "vdw_potential.attribute_cols = (*vdw_potential.attribute_cols, \"alpha\", \"beta\")\n",
    "vdw_potential.attributes = torch.cat(\n",
    "    [vdw_potential.attributes, torch.tensor([16.5, 5.0])]\n",
    ")"
   ],
   "metadata": {
    "collapsed": false,
    "ExecuteTime": {
     "end_time": "2023-10-17T21:17:36.203096Z",
     "start_time": "2023-10-17T21:17:36.141450Z"
    }
   },
   "id": "c6fe0e53f51dc32e"
  },
  {
   "cell_type": "markdown",
   "source": [
    "The energy can then be computed by the normal means:"
   ],
   "metadata": {
    "collapsed": false
   },
   "id": "413ce708e8e407a4"
  },
  {
   "cell_type": "code",
   "execution_count": 8,
   "outputs": [
    {
     "name": "stdout",
     "output_type": "stream",
     "text": [
      "Energy = 25.896 kcal / mol\n"
     ]
    }
   ],
   "source": [
    "energy = smee.compute_energy(lj_topology, lj_tensor_ff, conformer)\n",
    "print(f\"Energy = {energy.item():.3f} kcal / mol\")"
   ],
   "metadata": {
    "collapsed": false,
    "ExecuteTime": {
     "end_time": "2023-10-17T21:17:36.203565Z",
     "start_time": "2023-10-17T21:17:36.147494Z"
    }
   },
   "id": "46d4aad0457349fb"
  },
  {
   "cell_type": "markdown",
   "source": [
    "## Defining a custom parameter converter\n",
    "\n",
    "The more long term solution to supporting custom parameter handlers is by defining a converter for the custom interchange collection.\n",
    "\n",
    "In general this should be as simple as calling out to the built-in convert, and simply specifying which parameters and handler attributes to expect, and what units they should be converted to."
   ],
   "metadata": {
    "collapsed": false
   },
   "id": "6db36fd0dbbcd53b"
  },
  {
   "cell_type": "code",
   "execution_count": 9,
   "outputs": [],
   "source": [
    "from smirnoff_plugins.collections.nonbonded import SMIRNOFFDoubleExponentialCollection\n",
    "\n",
    "import smee.converters.openff.nonbonded\n",
    "\n",
    "KCAL_PER_MOL = openff.units.unit.kilocalories / openff.units.unit.mole\n",
    "ANGSTROM = openff.units.unit.angstrom\n",
    "\n",
    "UNITLESS = openff.units.unit.dimensionless\n",
    "\n",
    "\n",
    "@smee.converters.smirnoff_parameter_converter(\n",
    "    \"DoubleExponential\",\n",
    "    {\n",
    "        \"epsilon\": KCAL_PER_MOL,\n",
    "        \"r_min\": ANGSTROM,\n",
    "        \"alpha\": UNITLESS,\n",
    "        \"beta\": UNITLESS,\n",
    "        \"scale_12\": UNITLESS,\n",
    "        \"scale_13\": UNITLESS,\n",
    "        \"scale_14\": UNITLESS,\n",
    "        \"scale_15\": UNITLESS,\n",
    "        \"cutoff\": ANGSTROM,\n",
    "    },\n",
    ")\n",
    "def convert_dexp(\n",
    "    handlers: list[SMIRNOFFDoubleExponentialCollection],\n",
    "    topologies: list[openff.toolkit.Topology],\n",
    "    v_site_maps: list[smee.VSiteMap | None],\n",
    ") -> tuple[smee.TensorPotential, list[smee.NonbondedParameterMap]]:\n",
    "    (\n",
    "        potential,\n",
    "        parameter_maps,\n",
    "    ) = smee.converters.openff.nonbonded.convert_nonbonded_handlers(\n",
    "        handlers,\n",
    "        \"DoubleExponential\",\n",
    "        topologies,\n",
    "        v_site_maps,\n",
    "        (\"epsilon\", \"r_min\"),\n",
    "        (\"cutoff\", \"alpha\", \"beta\"),\n",
    "    )\n",
    "    potential.fn = \"dexp\"\n",
    "\n",
    "    return potential, parameter_maps"
   ],
   "metadata": {
    "collapsed": false,
    "ExecuteTime": {
     "end_time": "2023-10-17T21:17:36.203868Z",
     "start_time": "2023-10-17T21:17:36.157090Z"
    }
   },
   "id": "9ee7665147a67411"
  },
  {
   "cell_type": "markdown",
   "source": [
    "You might notice that this function expects a list of double exponential collections rather than just a single one. This is because `smee` can convert multiple interchange objects at once and in doing so aggregate any found parameters into a single force field.\n",
    "\n",
    "We must also -reregister the potential energy function that we defined above but this time setting the type to `'DoubleExponential'` as this is the name of the custom parameter handler:"
   ],
   "metadata": {
    "collapsed": false
   },
   "id": "1ace34618ddb4ff0"
  },
  {
   "cell_type": "code",
   "execution_count": 10,
   "outputs": [],
   "source": [
    "smee.potentials.potential_energy_fn(\"DoubleExponential\", \"dexp\")(compute_dexp_energy);"
   ],
   "metadata": {
    "collapsed": false,
    "ExecuteTime": {
     "end_time": "2023-10-17T21:17:36.203930Z",
     "start_time": "2023-10-17T21:17:36.160714Z"
    }
   },
   "id": "a567f83a64356296"
  },
  {
   "cell_type": "markdown",
   "source": [
    "We can then define a new interchange containing our custom parameter handler:"
   ],
   "metadata": {
    "collapsed": false
   },
   "id": "3fea4d95ca7330b2"
  },
  {
   "cell_type": "code",
   "execution_count": 11,
   "outputs": [
    {
     "data": {
      "text/plain": "Interchange with 3 collections, non-periodic topology with 14 atoms."
     },
     "execution_count": 11,
     "metadata": {},
     "output_type": "execute_result"
    }
   ],
   "source": [
    "dexp_force_field = openff.toolkit.ForceField(load_plugins=True)\n",
    "dexp_force_field.get_parameter_handler(\"Electrostatics\")\n",
    "\n",
    "charge_handler = dexp_force_field.get_parameter_handler(\"LibraryCharges\")\n",
    "charge_handler.add_parameter({\"smirks\": \"[*:1]\", \"charge1\": 0.0 * openff.units.unit.e})\n",
    "\n",
    "dexp_handler = dexp_force_field.get_parameter_handler(\"DoubleExponential\")\n",
    "dexp_handler.alpha = 16.5 * UNITLESS\n",
    "dexp_handler.beta = 5.0 * UNITLESS\n",
    "dexp_handler.add_parameter(\n",
    "    {\"smirks\": \"[#6:1]\", \"epsilon\": 0.1 * KCAL_PER_MOL, \"r_min\": 3.0 * ANGSTROM}\n",
    ")\n",
    "dexp_handler.add_parameter(\n",
    "    {\"smirks\": \"[#1:1]\", \"epsilon\": 0.01 * KCAL_PER_MOL, \"r_min\": 1.0 * ANGSTROM}\n",
    ")\n",
    "\n",
    "dexp_interchange = openff.interchange.Interchange.from_smirnoff(\n",
    "    dexp_force_field, molecule.to_topology()\n",
    ")\n",
    "dexp_interchange"
   ],
   "metadata": {
    "collapsed": false,
    "ExecuteTime": {
     "end_time": "2023-10-17T21:17:36.204388Z",
     "start_time": "2023-10-17T21:17:36.164911Z"
    }
   },
   "id": "f2b464b47c2be1a5"
  },
  {
   "cell_type": "markdown",
   "source": [
    "The interchange containing the custom DEXP handler can then be converted into tensor form:"
   ],
   "metadata": {
    "collapsed": false
   },
   "id": "5f416fda931f0511"
  },
  {
   "cell_type": "code",
   "execution_count": 12,
   "outputs": [],
   "source": [
    "dexp_tensor_ff, [dexp_topology] = smee.converters.convert_interchange(dexp_interchange)"
   ],
   "metadata": {
    "collapsed": false,
    "ExecuteTime": {
     "end_time": "2023-10-17T21:17:36.204498Z",
     "start_time": "2023-10-17T21:17:36.195131Z"
    }
   },
   "id": "1ee1d214ebd6c37f"
  },
  {
   "cell_type": "markdown",
   "source": [
    "The potential energy can then be computed as normal:"
   ],
   "metadata": {
    "collapsed": false
   },
   "id": "d7fbe67469c1327b"
  },
  {
   "cell_type": "code",
   "execution_count": 13,
   "outputs": [
    {
     "name": "stdout",
     "output_type": "stream",
     "text": [
      "Energy = -0.054 kcal / mol\n"
     ]
    }
   ],
   "source": [
    "energy = smee.compute_energy(dexp_topology, dexp_tensor_ff, conformer)\n",
    "print(f\"Energy = {energy.item():.3f} kcal / mol\")"
   ],
   "metadata": {
    "collapsed": false,
    "ExecuteTime": {
     "end_time": "2023-10-17T21:17:36.206488Z",
     "start_time": "2023-10-17T21:17:36.201710Z"
    }
   },
   "id": "f26971fccb03c79b"
  }
 ],
 "metadata": {
  "kernelspec": {
   "display_name": "Python 3",
   "language": "python",
   "name": "python3"
  },
  "language_info": {
   "codemirror_mode": {
    "name": "ipython",
    "version": 2
   },
   "file_extension": ".py",
   "mimetype": "text/x-python",
   "name": "python",
   "nbconvert_exporter": "python",
   "pygments_lexer": "ipython2",
   "version": "2.7.6"
  }
 },
 "nbformat": 4,
 "nbformat_minor": 5
}
