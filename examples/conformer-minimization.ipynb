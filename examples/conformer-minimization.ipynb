{
 "cells": [
  {
   "cell_type": "markdown",
   "id": "261b79c7042b8a6f",
   "metadata": {
    "collapsed": false
   },
   "source": [
    "# Conformer Minimization\n",
    "\n",
    "This example will show how to optimize a conformer of paracetamol.\n",
    "\n",
    "Load in a paracetamol molecule, generate a conformer for it, and perturb the conformer to ensure it needs minimization."
   ]
  },
  {
   "cell_type": "code",
   "execution_count": 1,
   "id": "b081ee3aecf864ac",
   "metadata": {
    "collapsed": false,
    "ExecuteTime": {
     "end_time": "2023-10-17T21:18:13.134692Z",
     "start_time": "2023-10-17T21:18:10.562001Z"
    }
   },
   "outputs": [],
   "source": [
    "import openff.toolkit\n",
    "import openff.units\n",
    "import torch\n",
    "\n",
    "molecule = openff.toolkit.Molecule.from_smiles(\"CC(=O)NC1=CC=C(C=C1)O\")\n",
    "molecule.generate_conformers(n_conformers=1)\n",
    "\n",
    "conformer = torch.tensor(molecule.conformers[0].m_as(openff.units.unit.angstrom)) * 1.10\n",
    "conformer.requires_grad = True"
   ]
  },
  {
   "cell_type": "markdown",
   "id": "f4168aec7a72494c",
   "metadata": {
    "collapsed": false
   },
   "source": [
    "We specify that the gradient of the conformer is required so that we can optimize it using PyTorch.\n",
    "\n",
    "Parameterize the molecule using OpenFF Interchange and convert it into a PyTorch tensor representation."
   ]
  },
  {
   "cell_type": "code",
   "execution_count": 2,
   "id": "8d00fd2dcf4c27cf",
   "metadata": {
    "collapsed": false,
    "ExecuteTime": {
     "end_time": "2023-10-17T21:18:16.758187Z",
     "start_time": "2023-10-17T21:18:13.138018Z"
    }
   },
   "outputs": [
    {
     "data": {
      "text/plain": "",
      "application/vnd.jupyter.widget-view+json": {
       "version_major": 2,
       "version_minor": 0,
       "model_id": "d8c8c3f62d1448a4b07498d18cf6dc5f"
      }
     },
     "metadata": {},
     "output_type": "display_data"
    }
   ],
   "source": [
    "import openff.interchange\n",
    "\n",
    "interchange = openff.interchange.Interchange.from_smirnoff(\n",
    "    openff.toolkit.ForceField(\"openff-2.1.0.offxml\"),\n",
    "    molecule.to_topology(),\n",
    ")\n",
    "\n",
    "import smee.converters\n",
    "\n",
    "force_field, [topology] = smee.converters.convert_interchange(interchange)"
   ]
  },
  {
   "cell_type": "markdown",
   "id": "792cb057cb419fa8",
   "metadata": {
    "collapsed": false
   },
   "source": [
    "We can minimize the conformer using any of PyTorch's optimizers. "
   ]
  },
  {
   "cell_type": "code",
   "execution_count": 3,
   "id": "facd656a27cf46a8",
   "metadata": {
    "collapsed": false,
    "ExecuteTime": {
     "end_time": "2023-10-17T21:18:17.036136Z",
     "start_time": "2023-10-17T21:18:16.761394Z"
    }
   },
   "outputs": [
    {
     "name": "stdout",
     "output_type": "stream",
     "text": [
      "Epoch 0: E=102.10968017578125 kcal / mol\n",
      "Epoch 5: E=7.088213920593262 kcal / mol\n",
      "Epoch 10: E=-18.331130981445312 kcal / mol\n",
      "Epoch 15: E=-22.182296752929688 kcal / mol\n",
      "Epoch 20: E=-30.369152069091797 kcal / mol\n",
      "Epoch 25: E=-36.81045150756836 kcal / mol\n",
      "Epoch 30: E=-38.517852783203125 kcal / mol\n",
      "Epoch 35: E=-40.50505828857422 kcal / mol\n",
      "Epoch 40: E=-42.08476257324219 kcal / mol\n",
      "Epoch 45: E=-42.19199752807617 kcal / mol\n",
      "Epoch 50: E=-42.37827682495117 kcal / mol\n",
      "Epoch 55: E=-42.6767692565918 kcal / mol\n",
      "Epoch 60: E=-42.799903869628906 kcal / mol\n",
      "Epoch 65: E=-42.94251251220703 kcal / mol\n",
      "Epoch 70: E=-43.037200927734375 kcal / mol\n",
      "Epoch 74: E=-43.084136962890625 kcal / mol\n"
     ]
    }
   ],
   "source": [
    "import smee\n",
    "\n",
    "optimizer = torch.optim.Adam([conformer], lr=0.02)\n",
    "\n",
    "for epoch in range(75):\n",
    "    energy = smee.compute_energy(topology, force_field, conformer)\n",
    "    energy.backward()\n",
    "\n",
    "    optimizer.step()\n",
    "    optimizer.zero_grad()\n",
    "\n",
    "    if epoch % 5 == 0 or epoch == 74:\n",
    "        print(f\"Epoch {epoch}: E={energy.item()} kcal / mol\")"
   ]
  },
  {
   "cell_type": "markdown",
   "id": "360d6eb9cf2b6cc4",
   "metadata": {
    "collapsed": false
   },
   "source": [
    "We can then re-store the optimized conformer back into the molecule. Here we add the conformer to the molecule's conformer list, but we could also replace the original conformer."
   ]
  },
  {
   "cell_type": "code",
   "execution_count": 4,
   "id": "eaec04c4039ca59b",
   "metadata": {
    "collapsed": false,
    "ExecuteTime": {
     "end_time": "2023-10-17T21:18:17.052947Z",
     "start_time": "2023-10-17T21:18:17.036498Z"
    }
   },
   "outputs": [
    {
     "data": {
      "text/plain": "NGLWidget(max_frame=1)",
      "application/vnd.jupyter.widget-view+json": {
       "version_major": 2,
       "version_minor": 0,
       "model_id": "449fcae6d9eb4e5a8a3d765f0608e399"
      }
     },
     "metadata": {},
     "output_type": "display_data"
    }
   ],
   "source": [
    "molecule.add_conformer(conformer.detach().numpy() * openff.units.unit.angstrom)\n",
    "molecule.visualize(backend=\"nglview\")"
   ]
  }
 ],
 "metadata": {
  "kernelspec": {
   "display_name": "Python 3 (ipykernel)",
   "language": "python",
   "name": "python3"
  },
  "language_info": {
   "codemirror_mode": {
    "name": "ipython",
    "version": 3
   },
   "file_extension": ".py",
   "mimetype": "text/x-python",
   "name": "python",
   "nbconvert_exporter": "python",
   "pygments_lexer": "ipython3",
   "version": "3.11.5"
  }
 },
 "nbformat": 4,
 "nbformat_minor": 5
}
