{
 "cells": [
  {
   "cell_type": "markdown",
   "id": "261b79c7042b8a6f",
   "metadata": {
    "collapsed": false
   },
   "source": [
    "# Conformer Minimization\n",
    "\n",
    "This example will show how to optimize a conformer of paracetamol.\n",
    "\n",
    "Load in a paracetamol molecule, generate a conformer for it, and perturb the conformer to ensure it needs minimization."
   ]
  },
  {
   "cell_type": "code",
   "execution_count": 1,
   "id": "b081ee3aecf864ac",
   "metadata": {
    "collapsed": false,
    "ExecuteTime": {
     "end_time": "2023-09-16T11:02:40.825866Z",
     "start_time": "2023-09-16T11:02:37.666122Z"
    }
   },
   "outputs": [],
   "source": [
    "import openff.toolkit\n",
    "import openff.units\n",
    "import torch\n",
    "\n",
    "molecule = openff.toolkit.Molecule.from_smiles(\"CC(=O)NC1=CC=C(C=C1)O\")\n",
    "molecule.generate_conformers(n_conformers=1)\n",
    "\n",
    "conformer = torch.tensor(molecule.conformers[0].m_as(openff.units.unit.angstrom)) * 1.10\n",
    "conformer.requires_grad = True"
   ]
  },
  {
   "cell_type": "markdown",
   "id": "f4168aec7a72494c",
   "metadata": {
    "collapsed": false
   },
   "source": [
    "We specify that the gradient of the conformer is required so that we can optimize it using PyTorch.\n",
    "\n",
    "Parameterize the molecule using OpenFF Interchange and convert it into a PyTorch tensor representation."
   ]
  },
  {
   "cell_type": "code",
   "execution_count": 2,
   "id": "8d00fd2dcf4c27cf",
   "metadata": {
    "collapsed": false,
    "ExecuteTime": {
     "end_time": "2023-09-16T11:02:45.089661Z",
     "start_time": "2023-09-16T11:02:40.827422Z"
    }
   },
   "outputs": [
    {
     "data": {
      "text/plain": "",
      "application/vnd.jupyter.widget-view+json": {
       "version_major": 2,
       "version_minor": 0,
       "model_id": "95de0d23cd0c4dd99fd969c9f3e805a7"
      }
     },
     "metadata": {},
     "output_type": "display_data"
    }
   ],
   "source": [
    "import openff.interchange\n",
    "\n",
    "interchange = openff.interchange.Interchange.from_smirnoff(\n",
    "    openff.toolkit.ForceField(\"openff-2.1.0.offxml\"),\n",
    "    molecule.to_topology(),\n",
    ")\n",
    "\n",
    "import smirnoffee.ff\n",
    "\n",
    "force_field, [topology] = smirnoffee.ff.convert_interchange(interchange)"
   ]
  },
  {
   "cell_type": "markdown",
   "id": "792cb057cb419fa8",
   "metadata": {
    "collapsed": false
   },
   "source": [
    "We can minimize the conformer using any of PyTorch's optimizers. "
   ]
  },
  {
   "cell_type": "code",
   "execution_count": 3,
   "id": "facd656a27cf46a8",
   "metadata": {
    "collapsed": false,
    "ExecuteTime": {
     "end_time": "2023-09-16T11:02:45.376465Z",
     "start_time": "2023-09-16T11:02:45.084916Z"
    }
   },
   "outputs": [
    {
     "name": "stderr",
     "output_type": "stream",
     "text": [
      "2023-09-16 07:02:45.103 python[21951:179166] apply_selection_policy_once: avoid use of removable GPUs (via (null):GPUSelectionPolicy->avoidRemovable)\n"
     ]
    },
    {
     "name": "stdout",
     "output_type": "stream",
     "text": [
      "Epoch 0: E=102.10975646972656 kcal / mol\n",
      "Epoch 5: E=7.088310718536377 kcal / mol\n",
      "Epoch 10: E=-18.331079483032227 kcal / mol\n",
      "Epoch 15: E=-22.182260513305664 kcal / mol\n",
      "Epoch 20: E=-30.369123458862305 kcal / mol\n",
      "Epoch 25: E=-36.8104133605957 kcal / mol\n",
      "Epoch 30: E=-38.51783752441406 kcal / mol\n",
      "Epoch 35: E=-40.50504684448242 kcal / mol\n",
      "Epoch 40: E=-42.084754943847656 kcal / mol\n",
      "Epoch 45: E=-42.191986083984375 kcal / mol\n",
      "Epoch 50: E=-42.378273010253906 kcal / mol\n",
      "Epoch 55: E=-42.67677688598633 kcal / mol\n",
      "Epoch 60: E=-42.79990005493164 kcal / mol\n",
      "Epoch 65: E=-42.942508697509766 kcal / mol\n",
      "Epoch 70: E=-43.037193298339844 kcal / mol\n",
      "Epoch 74: E=-43.084136962890625 kcal / mol\n"
     ]
    }
   ],
   "source": [
    "import smirnoffee.potentials\n",
    "\n",
    "optimizer = torch.optim.Adam([conformer], lr=0.02)\n",
    "\n",
    "for epoch in range(75):\n",
    "    energy = smirnoffee.potentials.compute_energy(\n",
    "        topology.parameters, conformer, force_field\n",
    "    )\n",
    "    energy.backward()\n",
    "\n",
    "    optimizer.step()\n",
    "    optimizer.zero_grad()\n",
    "\n",
    "    if epoch % 5 == 0 or epoch == 74:\n",
    "        print(f\"Epoch {epoch}: E={energy.item()} kcal / mol\")"
   ]
  },
  {
   "cell_type": "markdown",
   "id": "360d6eb9cf2b6cc4",
   "metadata": {
    "collapsed": false
   },
   "source": [
    "We can then re-store the optimized conformer back into the molecule. Here we add the conformer to the molecule's conformer list, but we could also replace the original conformer."
   ]
  },
  {
   "cell_type": "code",
   "execution_count": 4,
   "id": "eaec04c4039ca59b",
   "metadata": {
    "collapsed": false,
    "ExecuteTime": {
     "end_time": "2023-09-16T11:02:45.409849Z",
     "start_time": "2023-09-16T11:02:45.377439Z"
    }
   },
   "outputs": [
    {
     "data": {
      "text/plain": "NGLWidget(max_frame=1)",
      "application/vnd.jupyter.widget-view+json": {
       "version_major": 2,
       "version_minor": 0,
       "model_id": "22360051d4a740ab93b270874ba40861"
      }
     },
     "metadata": {},
     "output_type": "display_data"
    }
   ],
   "source": [
    "molecule.add_conformer(conformer.detach().numpy() * openff.units.unit.angstrom)\n",
    "molecule.visualize(backend=\"nglview\")"
   ]
  }
 ],
 "metadata": {
  "kernelspec": {
   "display_name": "Python 3 (ipykernel)",
   "language": "python",
   "name": "python3"
  },
  "language_info": {
   "codemirror_mode": {
    "name": "ipython",
    "version": 3
   },
   "file_extension": ".py",
   "mimetype": "text/x-python",
   "name": "python",
   "nbconvert_exporter": "python",
   "pygments_lexer": "ipython3",
   "version": "3.11.5"
  }
 },
 "nbformat": 4,
 "nbformat_minor": 5
}
