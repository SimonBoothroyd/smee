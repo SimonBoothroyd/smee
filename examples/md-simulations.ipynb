{
 "cells": [
  {
   "cell_type": "markdown",
   "source": [
    "# Ensemble Averages from MD Simulations\n",
    "\n",
    "This example shows how ensemble averages can be computed from MD simulations, such that their gradient with respect to force field parameters can be computed through backpropagation.\n",
    "\n",
    "We start by parameterizing the set of molecules that will appear in our simulation boxes: "
   ],
   "metadata": {
    "collapsed": false
   },
   "id": "aaf952cb344ca32d"
  },
  {
   "cell_type": "code",
   "execution_count": 1,
   "outputs": [
    {
     "data": {
      "text/plain": "",
      "application/vnd.jupyter.widget-view+json": {
       "version_major": 2,
       "version_minor": 0,
       "model_id": "517ec81345264ae8b2a042fd56b568a6"
      }
     },
     "metadata": {},
     "output_type": "display_data"
    }
   ],
   "source": [
    "import openff.interchange\n",
    "import openff.toolkit\n",
    "\n",
    "import smee.converters\n",
    "\n",
    "interchanges = [\n",
    "    openff.interchange.Interchange.from_smirnoff(\n",
    "        openff.toolkit.ForceField(\"openff-2.0.0.offxml\"),\n",
    "        openff.toolkit.Molecule.from_smiles(smiles).to_topology(),\n",
    "    )\n",
    "    for smiles in (\"CCO\", \"CO\")\n",
    "]\n",
    "\n",
    "tensor_ff, topologies = smee.converters.convert_interchange(interchanges)"
   ],
   "metadata": {
    "collapsed": false,
    "ExecuteTime": {
     "end_time": "2023-10-19T21:50:43.299571Z",
     "start_time": "2023-10-19T21:50:38.880450Z"
    }
   },
   "id": "e178932166969df5"
  },
  {
   "cell_type": "markdown",
   "source": [
    "We will also flag that the vdW parameter gradients are required:"
   ],
   "metadata": {
    "collapsed": false
   },
   "id": "415cbefaa3d60c49"
  },
  {
   "cell_type": "code",
   "execution_count": 2,
   "outputs": [],
   "source": [
    "vdw_potential = tensor_ff.potentials_by_type[\"vdW\"]\n",
    "vdw_potential.parameters.requires_grad = True"
   ],
   "metadata": {
    "collapsed": false,
    "ExecuteTime": {
     "end_time": "2023-10-19T21:50:43.308877Z",
     "start_time": "2023-10-19T21:50:43.302488Z"
    }
   },
   "id": "38700a4d251b1ab9"
  },
  {
   "cell_type": "markdown",
   "source": [
    "We then define the full simulation boxes that we wish to simulate:"
   ],
   "metadata": {
    "collapsed": false
   },
   "id": "824dfd3f7f6916b3"
  },
  {
   "cell_type": "code",
   "execution_count": 3,
   "outputs": [],
   "source": [
    "import smee\n",
    "\n",
    "# define a periodic box containing 216 ethanol molecules\n",
    "system_ethanol = smee.TensorSystem([topologies[0]], [216], is_periodic=True)\n",
    "# define a periodic box containing 216 methanol molecules\n",
    "system_methanol = smee.TensorSystem([topologies[1]], [216], True)\n",
    "# define a periodic box containing 128 ethanol molecules and 128 methanol molecules\n",
    "system_mixture = smee.TensorSystem(topologies, [128, 128], True)"
   ],
   "metadata": {
    "collapsed": false,
    "ExecuteTime": {
     "end_time": "2023-10-19T21:50:43.343163Z",
     "start_time": "2023-10-19T21:50:43.307306Z"
    }
   },
   "id": "58a584bf7997e194"
  },
  {
   "cell_type": "markdown",
   "source": [
    "A tensor system is simply a wrapper around a set of topology objects that define parameters applied to individual molecules, and the number of copies of that topology that should be present similar to GROMACS topologies. The `is_periodic` flag indicates whether the system should be simulated in a periodic box.\n",
    "\n",
    "We then also must define the simulation protocol that will be used to run the simulations. This consists of a config object that defines how to generate the system coordinates using PACKMOL, the set of energy minimisations /simulations to run as equilibration, and finally the configuration of the production simulation:"
   ],
   "metadata": {
    "collapsed": false
   },
   "id": "93a519affcb22db4"
  },
  {
   "cell_type": "code",
   "execution_count": 4,
   "outputs": [],
   "source": [
    "import tempfile\n",
    "\n",
    "import openmm.unit\n",
    "\n",
    "import smee.mm\n",
    "\n",
    "temperature = 298.15 * openmm.unit.kelvin\n",
    "pressure = 1.0 * openmm.unit.atmosphere\n",
    "\n",
    "# we can run an arbitrary number of equilibration simulations / minimizations.\n",
    "# all generated data will be discarded, but the final coordinates will be used\n",
    "# to initialize the production simulation\n",
    "equilibrate_config = [\n",
    "    smee.mm.MinimizationConfig(),\n",
    "    # short NVT equilibration simulation\n",
    "    smee.mm.SimulationConfig(\n",
    "        temperature=temperature,\n",
    "        pressure=None,\n",
    "        n_steps=50000,\n",
    "        timestep=1.0 * openmm.unit.femtosecond,\n",
    "    ),\n",
    "    # short NPT equilibration simulation\n",
    "    smee.mm.SimulationConfig(\n",
    "        temperature=temperature,\n",
    "        pressure=pressure,\n",
    "        n_steps=50000,\n",
    "        timestep=1.0 * openmm.unit.femtosecond,\n",
    "    ),\n",
    "]\n",
    "# long NPT production simulation\n",
    "production_config = smee.mm.SimulationConfig(\n",
    "    temperature=temperature,\n",
    "    pressure=pressure,\n",
    "    n_steps=500000,\n",
    "    timestep=2.0 * openmm.unit.femtosecond,\n",
    ")\n",
    "\n",
    "\n",
    "def compute_ensemble_averages(system: smee.TensorSystem):\n",
    "    # computing the ensemble averages is a two step process - we first need to run\n",
    "    # an MD simulation using the force field making sure to store the coordinates,\n",
    "    # box vectors and kinetic energies\n",
    "    coords, box_vectors = smee.mm.generate_system_coords(system)\n",
    "\n",
    "    with tempfile.NamedTemporaryFile() as tmp_path:\n",
    "        # save the simulation output every 1000th frame (2 ps) to a temporary file.\n",
    "        # we could also save the trajectory more permanently, but as we do nothing\n",
    "        # with it after computing the averages in this example, we simply want to\n",
    "        # discard it.\n",
    "\n",
    "        reporter_interval = 1\n",
    "\n",
    "        with open(tmp_path.name, \"wb\") as tmp_file:\n",
    "            reporter = smee.mm.TensorReporter(tmp_file, reporter_interval)\n",
    "\n",
    "            smee.mm.simulate(\n",
    "                system,\n",
    "                tensor_ff,\n",
    "                coords,\n",
    "                box_vectors,\n",
    "                equilibrate_config,\n",
    "                production_config,\n",
    "                [reporter],\n",
    "            )\n",
    "\n",
    "        # we can then compute the ensemble averages from the trajectory. generating\n",
    "        # the trajectory separately from computing the ensemble averages allows us\n",
    "        # to run the simulation in parallel with other simulations more easily, without\n",
    "        # having to worry about copying gradients between workers / processes.\n",
    "        import pathlib\n",
    "\n",
    "        return smee.mm.compute_ensemble_averages(\n",
    "            system, tensor_ff, pathlib.Path(tmp_path.name), temperature, pressure\n",
    "        )"
   ],
   "metadata": {
    "collapsed": false,
    "ExecuteTime": {
     "end_time": "2023-10-19T21:50:43.376891Z",
     "start_time": "2023-10-19T21:50:43.315296Z"
    }
   },
   "id": "ccba93245cf83ff7"
  },
  {
   "cell_type": "markdown",
   "source": [
    "Computing the ensemble averages is then as simple as:"
   ],
   "metadata": {
    "collapsed": false
   },
   "id": "8d1fdb6973324d14"
  },
  {
   "cell_type": "code",
   "execution_count": 5,
   "outputs": [
    {
     "name": "stderr",
     "output_type": "stream",
     "text": [
      "/Users/simon/mambaforge/envs/smee/lib/python3.11/site-packages/torch/autograd/function.py:506: UserWarning: at::frobenius_norm is deprecated and it is just left for JIT compatibility. It will be removed in a future PyTorch release. Please use `linalg.vector_norm(A, 2., dim, keepdim)` instead (Triggered internally at /Users/runner/miniforge3/conda-bld/pytorch-recipe_1696859382176/work/aten/src/ATen/native/LinearAlgebra.cpp:2789.)\n",
      "  return super().apply(*args, **kwargs)  # type: ignore[misc]\n"
     ]
    }
   ],
   "source": [
    "# run simulations of each system and compute ensemble averages over the trajectories\n",
    "# of the potential energy, volume, and density\n",
    "ethanol_avgs = compute_ensemble_averages(system_ethanol)\n",
    "methanol_avgs = compute_ensemble_averages(system_methanol)\n",
    "mixture_avgs = compute_ensemble_averages(system_mixture)"
   ],
   "metadata": {
    "collapsed": false,
    "ExecuteTime": {
     "end_time": "2023-10-19T21:50:53.873961Z",
     "start_time": "2023-10-19T21:50:43.370825Z"
    }
   },
   "id": "3156bcfc509380f7"
  },
  {
   "cell_type": "markdown",
   "source": [
    "Each of the returned values is a dictionary of ensemble averages computed over the simulated production trajectory. This currently includes the potential energy, volume, and density of the system.\n",
    "\n",
    "These averages can be used in a loss function"
   ],
   "metadata": {
    "collapsed": false
   },
   "id": "bcce5c83a564c59f"
  },
  {
   "cell_type": "code",
   "execution_count": 6,
   "outputs": [],
   "source": [
    "# define some MOCK data and loss function\n",
    "mock_ethanol_density = 0.789  # g/mL\n",
    "mock_methanol_density = 0.791  # g/mL\n",
    "\n",
    "mock_enthalpy_of_mixing = 0.891  # kcal/mol\n",
    "\n",
    "loss = (ethanol_avgs[\"density\"] - mock_ethanol_density) ** 2\n",
    "loss += (methanol_avgs[\"density\"] - mock_methanol_density) ** 2\n",
    "\n",
    "mixture_enthalpy = mixture_avgs[\"enthalpy\"] / 256\n",
    "\n",
    "ethanol_enthalpy = ethanol_avgs[\"enthalpy\"] / 128\n",
    "methanol_enthalpy = methanol_avgs[\"enthalpy\"] / 128\n",
    "\n",
    "enthalpy_of_mixing = mixture_enthalpy - (\n",
    "    0.5 * ethanol_enthalpy + 0.5 * methanol_enthalpy\n",
    ")\n",
    "loss += (enthalpy_of_mixing - mock_enthalpy_of_mixing) ** 2"
   ],
   "metadata": {
    "collapsed": false,
    "ExecuteTime": {
     "end_time": "2023-10-19T21:50:53.879337Z",
     "start_time": "2023-10-19T21:50:53.876688Z"
    }
   },
   "id": "38b9a27d7cd06c1a"
  },
  {
   "cell_type": "markdown",
   "source": [
    "and the gradient of this loss function with respect to the force field parameters can be computed through backpropagation:"
   ],
   "metadata": {
    "collapsed": false
   },
   "id": "9bd6779012316898"
  },
  {
   "cell_type": "code",
   "execution_count": 7,
   "outputs": [
    {
     "name": "stdout",
     "output_type": "stream",
     "text": [
      "VdW Ɛ Gradients tensor([  -88.9419,   -15.8891,   265.0663,    96.5979, -1092.2346],\n",
      "       dtype=torch.float64)\n",
      "VdW σ Gradients tensor([ 3.1174e+01,  4.4822e+01,  4.4113e+01,  4.4252e+01, -3.8771e-02],\n",
      "       dtype=torch.float64)\n"
     ]
    }
   ],
   "source": [
    "loss.backward()\n",
    "\n",
    "epsilon_col = vdw_potential.parameter_cols.index(\"epsilon\")\n",
    "sigma_col = vdw_potential.parameter_cols.index(\"sigma\")\n",
    "\n",
    "print(\"VdW Ɛ Gradients\", vdw_potential.parameters.grad[:, epsilon_col])\n",
    "print(\"VdW σ Gradients\", vdw_potential.parameters.grad[:, sigma_col])"
   ],
   "metadata": {
    "collapsed": false,
    "ExecuteTime": {
     "end_time": "2023-10-19T21:50:53.889296Z",
     "start_time": "2023-10-19T21:50:53.881786Z"
    }
   },
   "id": "dd3ccdfe61a0cd09"
  }
 ],
 "metadata": {
  "kernelspec": {
   "display_name": "Python 3",
   "language": "python",
   "name": "python3"
  },
  "language_info": {
   "codemirror_mode": {
    "name": "ipython",
    "version": 2
   },
   "file_extension": ".py",
   "mimetype": "text/x-python",
   "name": "python",
   "nbconvert_exporter": "python",
   "pygments_lexer": "ipython2",
   "version": "2.7.6"
  }
 },
 "nbformat": 4,
 "nbformat_minor": 5
}
