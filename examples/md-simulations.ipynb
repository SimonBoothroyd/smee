{
 "cells": [
  {
   "cell_type": "markdown",
   "source": [
    "# MD Simulations\n",
    "\n",
    "This example shows how ensemble averages can be computed from MD simulations, such that their gradient with respect to force field parameters can be computed through backpropagation.\n",
    "\n",
    "We start by parameterizing the set of molecules that will appear in our simulation boxes: "
   ],
   "metadata": {
    "collapsed": false
   },
   "id": "aaf952cb344ca32d"
  },
  {
   "cell_type": "code",
   "execution_count": 1,
   "outputs": [
    {
     "data": {
      "text/plain": "",
      "application/vnd.jupyter.widget-view+json": {
       "version_major": 2,
       "version_minor": 0,
       "model_id": "e79954efd04b48ca8b683e7b9b67f0c7"
      }
     },
     "metadata": {},
     "output_type": "display_data"
    }
   ],
   "source": [
    "import openff.interchange\n",
    "import openff.toolkit\n",
    "\n",
    "import smee\n",
    "\n",
    "interchanges = [\n",
    "    openff.interchange.Interchange.from_smirnoff(\n",
    "        openff.toolkit.ForceField(\"openff-2.0.0.offxml\"),\n",
    "        openff.toolkit.Molecule.from_smiles(smiles).to_topology(),\n",
    "    )\n",
    "    for smiles in (\"O\", \"CO\")\n",
    "]\n",
    "\n",
    "tensor_ff, topologies = smee.convert_interchange(interchanges)"
   ],
   "metadata": {
    "collapsed": false,
    "ExecuteTime": {
     "end_time": "2023-10-11T10:38:48.312722Z",
     "start_time": "2023-10-11T10:38:43.817989Z"
    }
   },
   "id": "e178932166969df5"
  },
  {
   "cell_type": "markdown",
   "source": [
    "We will also flag that the vdW parameter gradients are required:"
   ],
   "metadata": {
    "collapsed": false
   },
   "id": "415cbefaa3d60c49"
  },
  {
   "cell_type": "code",
   "execution_count": 2,
   "outputs": [],
   "source": [
    "vdw_potential = tensor_ff.potentials_by_type[\"vdW\"]\n",
    "vdw_potential.parameters.requires_grad = True"
   ],
   "metadata": {
    "collapsed": false,
    "ExecuteTime": {
     "end_time": "2023-10-11T10:38:48.320002Z",
     "start_time": "2023-10-11T10:38:48.315693Z"
    }
   },
   "id": "38700a4d251b1ab9"
  },
  {
   "cell_type": "markdown",
   "source": [
    "We then define the full simulation boxes that we wish to simulate:"
   ],
   "metadata": {
    "collapsed": false
   },
   "id": "824dfd3f7f6916b3"
  },
  {
   "cell_type": "code",
   "execution_count": 3,
   "outputs": [],
   "source": [
    "# define a periodic box containing 216 water molecules\n",
    "system_water = smee.ff.TensorSystem([topologies[0]], [216], is_periodic=True)\n",
    "# define a periodic box containing 128 methanol molecules\n",
    "system_methanol = smee.ff.TensorSystem([topologies[1]], [216], True)\n",
    "# define a periodic box containing 128 water molecules and 128 methanol molecules\n",
    "system_mixture = smee.ff.TensorSystem(topologies, [128, 128], True)"
   ],
   "metadata": {
    "collapsed": false,
    "ExecuteTime": {
     "end_time": "2023-10-11T10:38:48.329121Z",
     "start_time": "2023-10-11T10:38:48.320561Z"
    }
   },
   "id": "58a584bf7997e194"
  },
  {
   "cell_type": "markdown",
   "source": [
    "A tensor system is simply a wrapper around a set of topology objects that define parameters applied to individual molecules, and the number of copies of that topology that should be present similar to GROMACS topologies. The `is_periodic` flag indicates whether the system should be simulated in a periodic box.\n",
    "\n",
    "We then also must define the simulation protocol that will be used to run the simulations. This consists of a config object that defines how to generate the system coordinates using PACKMOL, the set of energy minimisations /simulations to run as equilibration, and finally the configuration of the production simulation:"
   ],
   "metadata": {
    "collapsed": false
   },
   "id": "93a519affcb22db4"
  },
  {
   "cell_type": "code",
   "execution_count": 4,
   "outputs": [],
   "source": [
    "import openmm.unit\n",
    "\n",
    "import smee.mm\n",
    "\n",
    "\n",
    "def simulation_protocol():\n",
    "    temperature = 298.15 * openmm.unit.kelvin\n",
    "    pressure = 1.0 * openmm.unit.atmosphere\n",
    "\n",
    "    coords_config = smee.mm.GenerateCoordsConfig()\n",
    "    # we can run an arbitrary number of equilibration simulations / minimizations.\n",
    "    # all generated data will be discarded, but the final coordinates will be used\n",
    "    # to initialize the production simulation\n",
    "    equilibrate_config = [\n",
    "        smee.mm.MinimizationConfig(),\n",
    "        # short NVT equilibration simulation\n",
    "        smee.mm.SimulationConfig(\n",
    "            temperature=temperature,\n",
    "            pressure=None,\n",
    "            n_steps=1,\n",
    "            timestep=1.0 * openmm.unit.femtosecond,\n",
    "        ),\n",
    "        # short NPT equilibration simulation\n",
    "        smee.mm.SimulationConfig(\n",
    "            temperature=temperature,\n",
    "            pressure=pressure,\n",
    "            n_steps=1,\n",
    "            timestep=1.0 * openmm.unit.femtosecond,\n",
    "        ),\n",
    "    ]\n",
    "    # long NPT production simulation\n",
    "    production_config = smee.mm.SimulationConfig(\n",
    "        temperature=temperature,\n",
    "        pressure=pressure,\n",
    "        n_steps=2,\n",
    "        timestep=2.0 * openmm.unit.femtosecond,\n",
    "    )\n",
    "    # store coords and values every 2 ps\n",
    "    report_interval = 1\n",
    "\n",
    "    return coords_config, equilibrate_config, production_config, report_interval"
   ],
   "metadata": {
    "collapsed": false,
    "ExecuteTime": {
     "end_time": "2023-10-11T10:38:48.367467Z",
     "start_time": "2023-10-11T10:38:48.328125Z"
    }
   },
   "id": "ccba93245cf83ff7"
  },
  {
   "cell_type": "markdown",
   "source": [
    "Computing the ensemble averages is then as simple as:"
   ],
   "metadata": {
    "collapsed": false
   },
   "id": "8d1fdb6973324d14"
  },
  {
   "cell_type": "code",
   "execution_count": 5,
   "outputs": [
    {
     "name": "stdout",
     "output_type": "stream",
     "text": [
      "FORWARD\n",
      "FORWARD\n",
      "FORWARD\n"
     ]
    }
   ],
   "source": [
    "# run simulations of each system and compute ensemble averages over the trajectories\n",
    "# of the potential energy, volume, and density\n",
    "water_avgs = smee.mm.compute_ensemble_averages(\n",
    "    system_water, tensor_ff, *simulation_protocol()\n",
    ")\n",
    "methanol_avgs = smee.mm.compute_ensemble_averages(\n",
    "    system_methanol, tensor_ff, *simulation_protocol()\n",
    ")\n",
    "mixture_avgs = smee.mm.compute_ensemble_averages(\n",
    "    system_mixture, tensor_ff, *simulation_protocol()\n",
    ")"
   ],
   "metadata": {
    "collapsed": false,
    "ExecuteTime": {
     "end_time": "2023-10-11T10:38:52.745214Z",
     "start_time": "2023-10-11T10:38:48.366902Z"
    }
   },
   "id": "3156bcfc509380f7"
  },
  {
   "cell_type": "markdown",
   "source": [
    "Each of the returned values is a dictionary of ensemble averages computed over the simulated production trajectory. This currently includes the potential energy, volume, and density of the system.\n",
    "\n",
    "These averages can be used in a loss function"
   ],
   "metadata": {
    "collapsed": false
   },
   "id": "bcce5c83a564c59f"
  },
  {
   "cell_type": "code",
   "execution_count": 6,
   "outputs": [],
   "source": [
    "# define some MOCK data and loss function\n",
    "mock_water_density = 1.0  # g/mL\n",
    "mock_methanol_density = 0.791  # g/mL\n",
    "\n",
    "mock_enthalpy_of_mixing = 0.891  # g/mL\n",
    "\n",
    "loss = (water_avgs[\"density\"] - mock_water_density) ** 2\n",
    "loss += (methanol_avgs[\"density\"] - mock_methanol_density) ** 2\n",
    "\n",
    "mixture_enthalpy = mixture_avgs[\"enthalpy\"] / 256\n",
    "\n",
    "water_enthalpy = water_avgs[\"enthalpy\"] / 128\n",
    "methanol_enthalpy = methanol_avgs[\"enthalpy\"] / 128\n",
    "\n",
    "enthalpy_of_mixing = mixture_enthalpy - (0.5 * water_enthalpy + 0.5 * methanol_enthalpy)\n",
    "loss += (enthalpy_of_mixing - mock_enthalpy_of_mixing) ** 2"
   ],
   "metadata": {
    "collapsed": false,
    "ExecuteTime": {
     "end_time": "2023-10-11T10:38:52.745414Z",
     "start_time": "2023-10-11T10:38:52.724206Z"
    }
   },
   "id": "38b9a27d7cd06c1a"
  },
  {
   "cell_type": "markdown",
   "source": [
    "and the gradient of this loss function with respect to the force field parameters can be computed through backpropagation:"
   ],
   "metadata": {
    "collapsed": false
   },
   "id": "9bd6779012316898"
  },
  {
   "cell_type": "code",
   "execution_count": 7,
   "outputs": [
    {
     "name": "stdout",
     "output_type": "stream",
     "text": [
      "BACKWARD\n",
      "BACKWARD\n",
      "BACKWARD\n",
      "VdW Ɛ Gradients tensor([ 14.6547, -56.3339,  -5.4367,  -1.8464,  74.0201, -53.0496],\n",
      "       dtype=torch.float64)\n",
      "VdW σ Gradients tensor([ 1.5595e+01,  0.0000e+00,  1.0379e+01,  1.3719e+01,  1.6765e+01,\n",
      "        -1.2333e-02], dtype=torch.float64)\n"
     ]
    }
   ],
   "source": [
    "loss.backward()\n",
    "\n",
    "epsilon_col = vdw_potential.parameter_cols.index(\"epsilon\")\n",
    "sigma_col = vdw_potential.parameter_cols.index(\"sigma\")\n",
    "\n",
    "print(\"VdW Ɛ Gradients\", vdw_potential.parameters.grad[:, epsilon_col])\n",
    "print(\"VdW σ Gradients\", vdw_potential.parameters.grad[:, sigma_col])"
   ],
   "metadata": {
    "collapsed": false,
    "ExecuteTime": {
     "end_time": "2023-10-11T10:39:04.561263Z",
     "start_time": "2023-10-11T10:38:52.730052Z"
    }
   },
   "id": "dd3ccdfe61a0cd09"
  }
 ],
 "metadata": {
  "kernelspec": {
   "display_name": "Python 3",
   "language": "python",
   "name": "python3"
  },
  "language_info": {
   "codemirror_mode": {
    "name": "ipython",
    "version": 2
   },
   "file_extension": ".py",
   "mimetype": "text/x-python",
   "name": "python",
   "nbconvert_exporter": "python",
   "pygments_lexer": "ipython2",
   "version": "2.7.6"
  }
 },
 "nbformat": 4,
 "nbformat_minor": 5
}
