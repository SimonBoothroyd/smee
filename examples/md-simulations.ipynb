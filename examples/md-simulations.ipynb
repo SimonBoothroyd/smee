{
 "cells": [
  {
   "cell_type": "markdown",
   "id": "aaf952cb344ca32d",
   "metadata": {
    "collapsed": false
   },
   "source": [
    "# Ensemble Averages from MD Simulations\n",
    "\n",
    "This example shows how ensemble averages can be computed from MD simulations, such that their gradient with respect to force field parameters can be computed through backpropagation.\n",
    "\n",
    "We start by parameterizing the set of molecules that will appear in our simulation boxes: "
   ]
  },
  {
   "cell_type": "code",
   "execution_count": null,
   "id": "e178932166969df5",
   "metadata": {
    "collapsed": false
   },
   "outputs": [],
   "source": [
    "import openff.interchange\n",
    "import openff.toolkit\n",
    "\n",
    "import smee.converters\n",
    "\n",
    "interchanges = [\n",
    "    openff.interchange.Interchange.from_smirnoff(\n",
    "        openff.toolkit.ForceField(\"openff-2.0.0.offxml\"),\n",
    "        openff.toolkit.Molecule.from_smiles(smiles).to_topology(),\n",
    "    )\n",
    "    for smiles in (\"CCO\", \"CO\")\n",
    "]\n",
    "\n",
    "tensor_ff, topologies = smee.converters.convert_interchange(interchanges)\n",
    "\n",
    "# move the force field to the GPU for faster processing of the simulation\n",
    "# trajectories - the system and force field must be on the same device.\n",
    "tensor_ff = tensor_ff.to(\"cuda\")"
   ]
  },
  {
   "cell_type": "markdown",
   "id": "415cbefaa3d60c49",
   "metadata": {
    "collapsed": false
   },
   "source": [
    "We will also flag that the vdW parameter gradients are required:"
   ]
  },
  {
   "cell_type": "code",
   "execution_count": null,
   "id": "38700a4d251b1ab9",
   "metadata": {
    "collapsed": false
   },
   "outputs": [],
   "source": [
    "vdw_potential = tensor_ff.potentials_by_type[\"vdW\"]\n",
    "vdw_potential.parameters.requires_grad = True"
   ]
  },
  {
   "cell_type": "markdown",
   "id": "824dfd3f7f6916b3",
   "metadata": {
    "collapsed": false
   },
   "source": [
    "We then define the full simulation boxes that we wish to simulate:"
   ]
  },
  {
   "cell_type": "code",
   "execution_count": null,
   "id": "58a584bf7997e194",
   "metadata": {
    "collapsed": false
   },
   "outputs": [],
   "source": [
    "import smee\n",
    "\n",
    "# define a periodic box containing 216 ethanol molecules\n",
    "system_ethanol = smee.TensorSystem([topologies[0]], [216], is_periodic=True)\n",
    "system_ethanol = system_ethanol.to(\"cuda\")\n",
    "# define a periodic box containing 216 methanol molecules\n",
    "system_methanol = smee.TensorSystem([topologies[1]], [216], True)\n",
    "system_methanol = system_methanol.to(\"cuda\")\n",
    "# define a periodic box containing 128 ethanol molecules and 128 methanol molecules\n",
    "system_mixture = smee.TensorSystem(topologies, [128, 128], True)\n",
    "system_mixture = system_mixture.to(\"cuda\")"
   ]
  },
  {
   "cell_type": "markdown",
   "id": "93a519affcb22db4",
   "metadata": {
    "collapsed": false
   },
   "source": [
    "A tensor system is simply a wrapper around a set of topology objects that define parameters applied to individual molecules, and the number of copies of that topology that should be present similar to GROMACS topologies. The `is_periodic` flag indicates whether the system should be simulated in a periodic box.\n",
    "\n",
    "Here we have also moved the systems onto the GPU. This will allow us to much more rapidly compute ensemble averages from the trajectories, but is not required.\n",
    "\n",
    "We then also must define the simulation protocol that will be used to run the simulations. This consists of a config object that defines how to generate the system coordinates using PACKMOL, the set of energy minimisations /simulations to run as equilibration, and finally the configuration of the production simulation:"
   ]
  },
  {
   "cell_type": "code",
   "execution_count": null,
   "id": "ccba93245cf83ff7",
   "metadata": {
    "collapsed": false
   },
   "outputs": [],
   "source": [
    "import tempfile\n",
    "\n",
    "import openmm.unit\n",
    "\n",
    "import smee.mm\n",
    "\n",
    "temperature = 298.15 * openmm.unit.kelvin\n",
    "pressure = 1.0 * openmm.unit.atmosphere\n",
    "\n",
    "beta = 1.0 / (openmm.unit.MOLAR_GAS_CONSTANT_R * temperature)\n",
    "\n",
    "# we can run an arbitrary number of equilibration simulations / minimizations.\n",
    "# all generated data will be discarded, but the final coordinates will be used\n",
    "# to initialize the production simulation\n",
    "equilibrate_config = [\n",
    "    smee.mm.MinimizationConfig(),\n",
    "    # short NVT equilibration simulation\n",
    "    smee.mm.SimulationConfig(\n",
    "        temperature=temperature,\n",
    "        pressure=None,\n",
    "        n_steps=50000,\n",
    "        timestep=1.0 * openmm.unit.femtosecond,\n",
    "    ),\n",
    "    # short NPT equilibration simulation\n",
    "    smee.mm.SimulationConfig(\n",
    "        temperature=temperature,\n",
    "        pressure=pressure,\n",
    "        n_steps=50000,\n",
    "        timestep=1.0 * openmm.unit.femtosecond,\n",
    "    ),\n",
    "]\n",
    "# long NPT production simulation\n",
    "production_config = smee.mm.SimulationConfig(\n",
    "    temperature=temperature,\n",
    "    pressure=pressure,\n",
    "    n_steps=500000,\n",
    "    timestep=2.0 * openmm.unit.femtosecond,\n",
    ")"
   ]
  },
  {
   "cell_type": "markdown",
   "id": "9db4088f839c4265",
   "metadata": {
    "collapsed": false
   },
   "source": [
    "We will further define a convenience function that will first simulate the system of interest (storing the trajectory in a temporary directory), and then compute ensemble averages over that trajectory:"
   ]
  },
  {
   "cell_type": "code",
   "execution_count": null,
   "id": "d485cce5c1a0fce3",
   "metadata": {
    "collapsed": false
   },
   "outputs": [],
   "source": [
    "import pathlib\n",
    "\n",
    "import torch\n",
    "\n",
    "\n",
    "def compute_ensemble_averages(\n",
    "    system: smee.TensorSystem, force_field: smee.TensorForceField\n",
    ") -> dict[str, torch.Tensor]:\n",
    "    # computing the ensemble averages is a two step process - we first need to run\n",
    "    # an MD simulation using the force field making sure to store the coordinates,\n",
    "    # box vectors and kinetic energies\n",
    "    coords, box_vectors = smee.mm.generate_system_coords(system, force_field)\n",
    "\n",
    "    interval = 1000\n",
    "\n",
    "    # save the simulation output every 1000th frame (2 ps) to a temporary file.\n",
    "    # we could also save the trajectory more permanently, but as we do nothing\n",
    "    # with it after computing the averages in this example, we simply want to\n",
    "    # discard it.\n",
    "    with (\n",
    "        tempfile.NamedTemporaryFile() as tmp_file,\n",
    "        smee.mm.tensor_reporter(tmp_file.name, interval, beta, pressure) as reporter,\n",
    "    ):\n",
    "        smee.mm.simulate(\n",
    "            system,\n",
    "            force_field,\n",
    "            coords,\n",
    "            box_vectors,\n",
    "            equilibrate_config,\n",
    "            production_config,\n",
    "            [reporter],\n",
    "        )\n",
    "\n",
    "        # we can then compute the ensemble averages from the trajectory. generating\n",
    "        # the trajectory separately from computing the ensemble averages allows us\n",
    "        # to run the simulation in parallel with other simulations more easily, without\n",
    "        # having to worry about copying gradients between workers / processes.\n",
    "        avgs, stds = smee.mm.compute_ensemble_averages(\n",
    "            system, force_field, pathlib.Path(tmp_file.name), temperature, pressure\n",
    "        )\n",
    "        return avgs"
   ]
  },
  {
   "cell_type": "markdown",
   "id": "8d1fdb6973324d14",
   "metadata": {
    "collapsed": false
   },
   "source": [
    "Computing the ensemble averages is then as simple as:"
   ]
  },
  {
   "cell_type": "code",
   "execution_count": null,
   "id": "3156bcfc509380f7",
   "metadata": {
    "collapsed": false
   },
   "outputs": [],
   "source": [
    "# run simulations of each system and compute ensemble averages over the trajectories\n",
    "# of the potential energy, volume, and density\n",
    "ethanol_avgs = compute_ensemble_averages(system_ethanol, tensor_ff)\n",
    "methanol_avgs = compute_ensemble_averages(system_methanol, tensor_ff)\n",
    "mixture_avgs = compute_ensemble_averages(system_mixture, tensor_ff)"
   ]
  },
  {
   "cell_type": "markdown",
   "id": "bcce5c83a564c59f",
   "metadata": {
    "collapsed": false
   },
   "source": [
    "Each of the returned values is a dictionary of ensemble averages computed over the simulated production trajectory. This currently includes the potential energy, volume, and density of the system.\n",
    "\n",
    "These averages can be used in a loss function"
   ]
  },
  {
   "cell_type": "code",
   "execution_count": null,
   "id": "38b9a27d7cd06c1a",
   "metadata": {
    "collapsed": false
   },
   "outputs": [],
   "source": [
    "# define some MOCK data and loss function\n",
    "mock_ethanol_density = 0.789  # g/mL\n",
    "mock_methanol_density = 0.791  # g/mL\n",
    "\n",
    "mock_enthalpy_of_mixing = 0.891  # kcal/mol\n",
    "\n",
    "loss = (ethanol_avgs[\"density\"] - mock_ethanol_density) ** 2\n",
    "loss += (methanol_avgs[\"density\"] - mock_methanol_density) ** 2\n",
    "\n",
    "mixture_enthalpy = mixture_avgs[\"enthalpy\"] / 256\n",
    "\n",
    "ethanol_enthalpy = ethanol_avgs[\"enthalpy\"] / 128\n",
    "methanol_enthalpy = methanol_avgs[\"enthalpy\"] / 128\n",
    "\n",
    "enthalpy_of_mixing = mixture_enthalpy - (\n",
    "    0.5 * ethanol_enthalpy + 0.5 * methanol_enthalpy\n",
    ")\n",
    "loss += (enthalpy_of_mixing - mock_enthalpy_of_mixing) ** 2"
   ]
  },
  {
   "cell_type": "markdown",
   "id": "9bd6779012316898",
   "metadata": {
    "collapsed": false
   },
   "source": [
    "and the gradient of this loss function with respect to the force field parameters can be computed through backpropagation:"
   ]
  },
  {
   "cell_type": "code",
   "execution_count": null,
   "id": "dd3ccdfe61a0cd09",
   "metadata": {
    "collapsed": false
   },
   "outputs": [],
   "source": [
    "loss.backward()\n",
    "\n",
    "epsilon_col = vdw_potential.parameter_cols.index(\"epsilon\")\n",
    "sigma_col = vdw_potential.parameter_cols.index(\"sigma\")\n",
    "\n",
    "print(\"VdW Ɛ Gradients\", vdw_potential.parameters.grad[:, epsilon_col])\n",
    "print(\"VdW σ Gradients\", vdw_potential.parameters.grad[:, sigma_col])"
   ]
  }
 ],
 "metadata": {
  "kernelspec": {
   "display_name": "Python 3 (ipykernel)",
   "language": "python",
   "name": "python3"
  },
  "language_info": {
   "codemirror_mode": {
    "name": "ipython",
    "version": 3
   },
   "file_extension": ".py",
   "mimetype": "text/x-python",
   "name": "python",
   "nbconvert_exporter": "python",
   "pygments_lexer": "ipython3",
   "version": "3.11.6"
  }
 },
 "nbformat": 4,
 "nbformat_minor": 5
}
