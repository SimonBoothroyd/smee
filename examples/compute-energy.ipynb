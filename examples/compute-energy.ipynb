{
 "cells": [
  {
   "cell_type": "markdown",
   "source": [
    "# Computing energies using SMIRNOFFEE\n",
    "\n",
    "This example will show how the energy of paracetamol in multiple conformers can be evaluated using `smirnoffee` framework. \n",
    "\n",
    "We start by loading in the molecule of interest, in this case paracetamol as defined by its SMILES representation, using the [`openff-toolkit`](https://github.com/openforcefield/openff-toolkit) and generating a single conformer for it:"
   ],
   "metadata": {
    "collapsed": false
   },
   "id": "25a78d447fc68708"
  },
  {
   "cell_type": "code",
   "execution_count": 1,
   "outputs": [
    {
     "data": {
      "text/plain": "torch.Size([2, 20, 3])"
     },
     "execution_count": 1,
     "metadata": {},
     "output_type": "execute_result"
    }
   ],
   "source": [
    "import openff.toolkit\n",
    "import openff.units\n",
    "import torch\n",
    "\n",
    "molecule = openff.toolkit.Molecule.from_smiles(\"CC(=O)NC1=CC=C(C=C1)O\")\n",
    "molecule.generate_conformers(\n",
    "    n_conformers=2, rms_cutoff=0.01 * openff.units.unit.angstrom\n",
    ")\n",
    "\n",
    "conformers = torch.tensor(\n",
    "    [\n",
    "        conformer.m_as(openff.units.unit.angstrom).tolist()\n",
    "        for conformer in molecule.conformers\n",
    "    ]\n",
    ")\n",
    "conformers.shape"
   ],
   "metadata": {
    "collapsed": false,
    "ExecuteTime": {
     "end_time": "2023-09-14T21:47:15.670114Z",
     "start_time": "2023-09-14T21:47:12.975914Z"
    }
   },
   "id": "90bd4bbb3c3dbf19"
  },
  {
   "cell_type": "markdown",
   "source": [
    "Conformers should either be tensors with a shape of `(n_atoms, 3)` or `(n_conformers, n_atoms, 3)`, and units of Å.\n",
    "\n",
    "Next we will load in the force field that encodes the potential energy function we wish to evaluate and apply it to our molecule."
   ],
   "metadata": {
    "collapsed": false
   },
   "id": "3b2bbc4c12f85544"
  },
  {
   "cell_type": "code",
   "execution_count": 2,
   "outputs": [],
   "source": [
    "import openff.interchange\n",
    "\n",
    "force_field = openff.toolkit.ForceField(\"openff_unconstrained-2.0.0.offxml\")\n",
    "interchange = openff.interchange.Interchange.from_smirnoff(\n",
    "    force_field, molecule.to_topology()\n",
    ")"
   ],
   "metadata": {
    "collapsed": false,
    "ExecuteTime": {
     "end_time": "2023-09-14T21:47:19.833064Z",
     "start_time": "2023-09-14T21:47:15.656207Z"
    }
   },
   "id": "483fe892279cda00"
  },
  {
   "cell_type": "markdown",
   "source": [
    "In order to use an interchange object with this framework, we need to map it into a collection of tensors:"
   ],
   "metadata": {
    "collapsed": false
   },
   "id": "5894a5eec986e7cf"
  },
  {
   "cell_type": "code",
   "execution_count": 3,
   "outputs": [],
   "source": [
    "from smirnoffee.ff import convert_interchange\n",
    "\n",
    "tensor_ff, [tensor_topology] = convert_interchange(interchange)"
   ],
   "metadata": {
    "collapsed": false,
    "ExecuteTime": {
     "end_time": "2023-09-14T21:47:19.843591Z",
     "start_time": "2023-09-14T21:47:19.823256Z"
    }
   },
   "id": "e269db087ca0015"
  },
  {
   "cell_type": "markdown",
   "source": [
    "**Note:** The `convert_interchange` function can take either a single interchange object, or a list of multiple.\n",
    "\n",
    "These tensors are returned as::\n",
    "\n",
    "* a `smirnoffee.ff.TensorForceField`: this object stores the original values of the force field parameters.\n",
    "* a list of ``smirnoffee.ff.TensorTopology``: each 'topology' will store for each handler matrices defining which parameters were assigned, as well as any virtual sites that were added.\n",
    "\n",
    "Storing the parameter values separately from how they should be applied allows us to easily modify the values of the parameters and re-evaluate the energy using those parameters.\n",
    "\n",
    "The energy of the molecule can then be directly be evaluated:"
   ],
   "metadata": {
    "collapsed": false
   },
   "id": "ee2d99f7f39f164b"
  },
  {
   "cell_type": "code",
   "execution_count": 4,
   "outputs": [
    {
     "name": "stdout",
     "output_type": "stream",
     "text": [
      "conformer=0 energy=-51.225 kJ / mol\n",
      "conformer=1 energy=-55.653 kJ / mol\n"
     ]
    }
   ],
   "source": [
    "from smirnoffee.potentials import compute_energy\n",
    "\n",
    "energies = compute_energy(tensor_topology.parameters, conformers, tensor_ff)\n",
    "\n",
    "for conformer_idx, energy in enumerate(energies):\n",
    "    print(f\"conformer={conformer_idx} energy={energy.item():.3f} kJ / mol\")"
   ],
   "metadata": {
    "collapsed": false,
    "ExecuteTime": {
     "end_time": "2023-09-14T21:47:19.886409Z",
     "start_time": "2023-09-14T21:47:19.845280Z"
    }
   },
   "id": "2ac831ea0b442177"
  }
 ],
 "metadata": {
  "kernelspec": {
   "display_name": "Python 3",
   "language": "python",
   "name": "python3"
  },
  "language_info": {
   "codemirror_mode": {
    "name": "ipython",
    "version": 2
   },
   "file_extension": ".py",
   "mimetype": "text/x-python",
   "name": "python",
   "nbconvert_exporter": "python",
   "pygments_lexer": "ipython2",
   "version": "2.7.6"
  }
 },
 "nbformat": 4,
 "nbformat_minor": 5
}
