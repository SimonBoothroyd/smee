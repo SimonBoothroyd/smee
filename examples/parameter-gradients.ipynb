{
 "cells": [
  {
   "cell_type": "markdown",
   "source": [
    "# Parameter Gradients\n",
    "\n",
    "This example will show how the gradient of the potential energy with respect to force field parameters may be computed.\n",
    "\n",
    "We start be loading and parameterizing the molecule of interest."
   ],
   "metadata": {
    "collapsed": false
   },
   "id": "581674729871c21a"
  },
  {
   "cell_type": "code",
   "execution_count": 1,
   "outputs": [
    {
     "data": {
      "text/plain": "",
      "application/vnd.jupyter.widget-view+json": {
       "version_major": 2,
       "version_minor": 0,
       "model_id": "018183c55589424ca42e17cbe6b3926c"
      }
     },
     "metadata": {},
     "output_type": "display_data"
    }
   ],
   "source": [
    "import openff.interchange\n",
    "import openff.toolkit\n",
    "import openff.units\n",
    "import torch\n",
    "\n",
    "import smirnoffee.ff\n",
    "\n",
    "molecule = openff.toolkit.Molecule.from_smiles(\"CC(=O)NC1=CC=C(C=C1)O\")\n",
    "molecule.generate_conformers(n_conformers=1)\n",
    "\n",
    "conformer = torch.tensor(molecule.conformers[0].m_as(openff.units.unit.angstrom))\n",
    "\n",
    "interchange = openff.interchange.Interchange.from_smirnoff(\n",
    "    openff.toolkit.ForceField(\"openff_unconstrained-2.0.0.offxml\"),\n",
    "    molecule.to_topology(),\n",
    ")\n",
    "force_field, [topology] = smirnoffee.ff.convert_interchange(interchange)"
   ],
   "metadata": {
    "collapsed": false,
    "ExecuteTime": {
     "end_time": "2023-09-15T11:15:11.123200Z",
     "start_time": "2023-09-15T11:15:03.572796Z"
    }
   },
   "id": "67b29771d6b77bc"
  },
  {
   "cell_type": "markdown",
   "source": [
    "We can access the parameters for each SMIRNOFF parameter 'handler' (e.g. vdW, bond, angle, etc.) using the `potentials_by_type` (or the `potentials`) attribute of the `TensorForceField` object."
   ],
   "metadata": {
    "collapsed": false
   },
   "id": "338809852105c2d8"
  },
  {
   "cell_type": "code",
   "execution_count": 2,
   "outputs": [],
   "source": [
    "vdw_potential = force_field.potentials_by_type[\"vdW\"]\n",
    "vdw_potential.parameters.requires_grad = True"
   ],
   "metadata": {
    "collapsed": false,
    "ExecuteTime": {
     "end_time": "2023-09-15T11:15:11.130898Z",
     "start_time": "2023-09-15T11:15:11.126871Z"
    }
   },
   "id": "4757416c61bdcf8d"
  },
  {
   "cell_type": "markdown",
   "source": [
    "The gradient of the potential energy with respect to the parameters can then be computed by backpropagating through the energy computation."
   ],
   "metadata": {
    "collapsed": false
   },
   "id": "6e8d221ef30f9da6"
  },
  {
   "cell_type": "code",
   "execution_count": 3,
   "outputs": [
    {
     "name": "stdout",
     "output_type": "stream",
     "text": [
      "[#6X4:1]        - dU/depsilon =   -1.033, dU/dsigma =   -0.583\n",
      "[#6:1]          - dU/depsilon =   87.490, dU/dsigma =  146.368\n",
      "[#8:1]          - dU/depsilon =   15.846, dU/dsigma =   72.098\n",
      "[#7:1]          - dU/depsilon =    0.148, dU/dsigma =    4.967\n",
      "[#8X2H1+0:1]    - dU/depsilon =   -0.305, dU/dsigma =    2.336\n",
      "[#1:1]-[#6X4]   - dU/depsilon =    7.630, dU/dsigma =    5.874\n",
      "[#1:1]-[#7]     - dU/depsilon =   -2.894, dU/dsigma =   -0.309\n",
      "[#1:1]-[#6X3]   - dU/depsilon =  137.134, dU/dsigma =   50.748\n",
      "[#1:1]-[#8]     - dU/depsilon =  -22.417, dU/dsigma =   -0.003\n"
     ]
    }
   ],
   "source": [
    "import smirnoffee.potentials\n",
    "\n",
    "energy = smirnoffee.potentials.compute_energy(\n",
    "    topology.parameters, conformer, force_field\n",
    ")\n",
    "energy.backward()\n",
    "\n",
    "for parameter_key, gradient in zip(\n",
    "    vdw_potential.parameter_keys, vdw_potential.parameters.grad.numpy()\n",
    "):\n",
    "    parameter_cols = vdw_potential.parameter_cols\n",
    "\n",
    "    parameter_grads = \", \".join(\n",
    "        f\"dU/d{parameter_col} = {parameter_grad: 8.3f}\"\n",
    "        for parameter_col, parameter_grad in zip(parameter_cols, gradient)\n",
    "    )\n",
    "    print(f\"{parameter_key.id.ljust(15)} - {parameter_grads}\")"
   ],
   "metadata": {
    "collapsed": false,
    "ExecuteTime": {
     "end_time": "2023-09-15T11:15:11.168216Z",
     "start_time": "2023-09-15T11:15:11.133606Z"
    }
   },
   "id": "6df321d552be0aad"
  }
 ],
 "metadata": {
  "kernelspec": {
   "display_name": "Python 3",
   "language": "python",
   "name": "python3"
  },
  "language_info": {
   "codemirror_mode": {
    "name": "ipython",
    "version": 2
   },
   "file_extension": ".py",
   "mimetype": "text/x-python",
   "name": "python",
   "nbconvert_exporter": "python",
   "pygments_lexer": "ipython2",
   "version": "2.7.6"
  }
 },
 "nbformat": 4,
 "nbformat_minor": 5
}
