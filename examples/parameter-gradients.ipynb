{
 "cells": [
  {
   "cell_type": "markdown",
   "source": [
    "# Parameter Gradients\n",
    "\n",
    "This example will show how the gradient of the potential energy with respect to force field parameters may be computed.\n",
    "\n",
    "We start be loading and parameterizing the molecule of interest."
   ],
   "metadata": {
    "collapsed": false
   },
   "id": "581674729871c21a"
  },
  {
   "cell_type": "code",
   "execution_count": 1,
   "outputs": [
    {
     "data": {
      "text/plain": "",
      "application/vnd.jupyter.widget-view+json": {
       "version_major": 2,
       "version_minor": 0,
       "model_id": "330cd3aa033044e7aa16aae18a12acd6"
      }
     },
     "metadata": {},
     "output_type": "display_data"
    }
   ],
   "source": [
    "import openff.interchange\n",
    "import openff.toolkit\n",
    "import openff.units\n",
    "import torch\n",
    "\n",
    "import smee\n",
    "\n",
    "molecule = openff.toolkit.Molecule.from_smiles(\"CC(=O)NC1=CC=C(C=C1)O\")\n",
    "molecule.generate_conformers(n_conformers=1)\n",
    "\n",
    "conformer = torch.tensor(molecule.conformers[0].m_as(openff.units.unit.angstrom))\n",
    "\n",
    "interchange = openff.interchange.Interchange.from_smirnoff(\n",
    "    openff.toolkit.ForceField(\"openff_unconstrained-2.0.0.offxml\"),\n",
    "    molecule.to_topology(),\n",
    ")\n",
    "force_field, [topology] = smee.convert_interchange(interchange)"
   ],
   "metadata": {
    "collapsed": false,
    "ExecuteTime": {
     "end_time": "2023-09-16T11:03:01.296146Z",
     "start_time": "2023-09-16T11:02:53.908938Z"
    }
   },
   "id": "67b29771d6b77bc"
  },
  {
   "cell_type": "markdown",
   "source": [
    "We can access the parameters for each SMIRNOFF parameter 'handler' (e.g. vdW, bond, angle, etc.) using the `potentials_by_type` (or the `potentials`) attribute of the `TensorForceField` object."
   ],
   "metadata": {
    "collapsed": false
   },
   "id": "338809852105c2d8"
  },
  {
   "cell_type": "code",
   "execution_count": 2,
   "outputs": [],
   "source": [
    "vdw_potential = force_field.potentials_by_type[\"vdW\"]\n",
    "vdw_potential.parameters.requires_grad = True"
   ],
   "metadata": {
    "collapsed": false,
    "ExecuteTime": {
     "end_time": "2023-09-16T11:03:01.308727Z",
     "start_time": "2023-09-16T11:03:01.300160Z"
    }
   },
   "id": "4757416c61bdcf8d"
  },
  {
   "cell_type": "markdown",
   "source": [
    "The gradient of the potential energy with respect to the parameters can then be computed by backpropagating through the energy computation."
   ],
   "metadata": {
    "collapsed": false
   },
   "id": "6e8d221ef30f9da6"
  },
  {
   "cell_type": "code",
   "execution_count": 3,
   "outputs": [
    {
     "name": "stdout",
     "output_type": "stream",
     "text": [
      "[#6X4:1]        - dU/depsilon =   -1.033, dU/dsigma =   -0.139\n",
      "[#6:1]          - dU/depsilon =   87.490, dU/dsigma =   34.983\n",
      "[#8:1]          - dU/depsilon =   15.846, dU/dsigma =   17.232\n",
      "[#7:1]          - dU/depsilon =    0.148, dU/dsigma =    1.187\n",
      "[#8X2H1+0:1]    - dU/depsilon =   -0.305, dU/dsigma =    0.558\n",
      "[#1:1]-[#6X4]   - dU/depsilon =    7.630, dU/dsigma =    1.404\n",
      "[#1:1]-[#7]     - dU/depsilon =   -2.894, dU/dsigma =   -0.074\n",
      "[#1:1]-[#6X3]   - dU/depsilon =  137.134, dU/dsigma =   12.129\n",
      "[#1:1]-[#8]     - dU/depsilon =  -22.417, dU/dsigma =   -0.001\n"
     ]
    },
    {
     "name": "stderr",
     "output_type": "stream",
     "text": [
      "2023-09-16 07:03:01.326 python[22048:179788] apply_selection_policy_once: avoid use of removable GPUs (via (null):GPUSelectionPolicy->avoidRemovable)\n"
     ]
    }
   ],
   "source": [
    "energy = smee.compute_energy(topology.parameters, conformer, force_field)\n",
    "energy.backward()\n",
    "\n",
    "for parameter_key, gradient in zip(\n",
    "    vdw_potential.parameter_keys, vdw_potential.parameters.grad.numpy()\n",
    "):\n",
    "    parameter_cols = vdw_potential.parameter_cols\n",
    "\n",
    "    parameter_grads = \", \".join(\n",
    "        f\"dU/d{parameter_col} = {parameter_grad: 8.3f}\"\n",
    "        for parameter_col, parameter_grad in zip(parameter_cols, gradient)\n",
    "    )\n",
    "    print(f\"{parameter_key.id.ljust(15)} - {parameter_grads}\")"
   ],
   "metadata": {
    "collapsed": false,
    "ExecuteTime": {
     "end_time": "2023-09-16T11:03:01.341744Z",
     "start_time": "2023-09-16T11:03:01.308251Z"
    }
   },
   "id": "6df321d552be0aad"
  }
 ],
 "metadata": {
  "kernelspec": {
   "display_name": "Python 3",
   "language": "python",
   "name": "python3"
  },
  "language_info": {
   "codemirror_mode": {
    "name": "ipython",
    "version": 2
   },
   "file_extension": ".py",
   "mimetype": "text/x-python",
   "name": "python",
   "nbconvert_exporter": "python",
   "pygments_lexer": "ipython2",
   "version": "2.7.6"
  }
 },
 "nbformat": 4,
 "nbformat_minor": 5
}
