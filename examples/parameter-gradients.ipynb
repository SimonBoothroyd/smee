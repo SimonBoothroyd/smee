{
 "cells": [
  {
   "cell_type": "markdown",
   "source": [
    "# Parameter Gradients\n",
    "\n",
    "This example will show how the gradient of the potential energy with respect to force field parameters may be computed.\n",
    "\n",
    "We start be loading and parameterizing the molecule of interest."
   ],
   "metadata": {
    "collapsed": false
   },
   "id": "581674729871c21a"
  },
  {
   "cell_type": "code",
   "execution_count": 1,
   "outputs": [
    {
     "data": {
      "text/plain": "",
      "application/vnd.jupyter.widget-view+json": {
       "version_major": 2,
       "version_minor": 0,
       "model_id": "9f2762d7fdec4691a8fba35cac8e7f98"
      }
     },
     "metadata": {},
     "output_type": "display_data"
    }
   ],
   "source": [
    "import openff.interchange\n",
    "import openff.toolkit\n",
    "import openff.units\n",
    "import torch\n",
    "\n",
    "import smee.converters\n",
    "\n",
    "molecule = openff.toolkit.Molecule.from_smiles(\"CC(=O)NC1=CC=C(C=C1)O\")\n",
    "molecule.generate_conformers(n_conformers=1)\n",
    "\n",
    "conformer = torch.tensor(molecule.conformers[0].m_as(openff.units.unit.angstrom))\n",
    "\n",
    "interchange = openff.interchange.Interchange.from_smirnoff(\n",
    "    openff.toolkit.ForceField(\"openff_unconstrained-2.0.0.offxml\"),\n",
    "    molecule.to_topology(),\n",
    ")\n",
    "tensor_ff, [tensor_topology] = smee.converters.convert_interchange(interchange)"
   ],
   "metadata": {
    "collapsed": false,
    "ExecuteTime": {
     "end_time": "2023-10-17T21:17:56.406479Z",
     "start_time": "2023-10-17T21:17:50.319630Z"
    }
   },
   "id": "67b29771d6b77bc"
  },
  {
   "cell_type": "markdown",
   "source": [
    "We can access the parameters for each SMIRNOFF parameter 'handler' (e.g. vdW, bond, angle, etc.) using the `potentials_by_type` (or the `potentials`) attribute of the `TensorForceField` object."
   ],
   "metadata": {
    "collapsed": false
   },
   "id": "338809852105c2d8"
  },
  {
   "cell_type": "code",
   "execution_count": 2,
   "outputs": [],
   "source": [
    "vdw_potential = tensor_ff.potentials_by_type[\"vdW\"]\n",
    "vdw_potential.parameters.requires_grad = True"
   ],
   "metadata": {
    "collapsed": false,
    "ExecuteTime": {
     "end_time": "2023-10-17T21:17:56.416841Z",
     "start_time": "2023-10-17T21:17:56.409028Z"
    }
   },
   "id": "4757416c61bdcf8d"
  },
  {
   "cell_type": "markdown",
   "source": [
    "The gradient of the potential energy with respect to the parameters can then be computed by backpropagating through the energy computation."
   ],
   "metadata": {
    "collapsed": false
   },
   "id": "6e8d221ef30f9da6"
  },
  {
   "cell_type": "code",
   "execution_count": 3,
   "outputs": [
    {
     "name": "stdout",
     "output_type": "stream",
     "text": [
      "[#6X4:1]        - dU/depsilon =   -1.033, dU/dsigma =   -0.139\n",
      "[#6:1]          - dU/depsilon =   87.490, dU/dsigma =   34.983\n",
      "[#8:1]          - dU/depsilon =   15.846, dU/dsigma =   17.232\n",
      "[#7:1]          - dU/depsilon =    0.148, dU/dsigma =    1.187\n",
      "[#8X2H1+0:1]    - dU/depsilon =   -0.305, dU/dsigma =    0.558\n",
      "[#1:1]-[#6X4]   - dU/depsilon =    7.630, dU/dsigma =    1.404\n",
      "[#1:1]-[#7]     - dU/depsilon =   -2.894, dU/dsigma =   -0.074\n",
      "[#1:1]-[#6X3]   - dU/depsilon =  137.134, dU/dsigma =   12.129\n",
      "[#1:1]-[#8]     - dU/depsilon =  -22.417, dU/dsigma =   -0.001\n"
     ]
    }
   ],
   "source": [
    "import smee\n",
    "\n",
    "energy = smee.compute_energy(tensor_topology, tensor_ff, conformer)\n",
    "energy.backward()\n",
    "\n",
    "for parameter_key, gradient in zip(\n",
    "    vdw_potential.parameter_keys, vdw_potential.parameters.grad.numpy(), strict=True\n",
    "):\n",
    "    parameter_cols = vdw_potential.parameter_cols\n",
    "\n",
    "    parameter_grads = \", \".join(\n",
    "        f\"dU/d{parameter_col} = {parameter_grad: 8.3f}\"\n",
    "        for parameter_col, parameter_grad in zip(parameter_cols, gradient, strict=True)\n",
    "    )\n",
    "    print(f\"{parameter_key.id.ljust(15)} - {parameter_grads}\")"
   ],
   "metadata": {
    "collapsed": false,
    "ExecuteTime": {
     "end_time": "2023-10-17T21:17:56.452896Z",
     "start_time": "2023-10-17T21:17:56.415831Z"
    }
   },
   "id": "6df321d552be0aad"
  }
 ],
 "metadata": {
  "kernelspec": {
   "display_name": "Python 3",
   "language": "python",
   "name": "python3"
  },
  "language_info": {
   "codemirror_mode": {
    "name": "ipython",
    "version": 2
   },
   "file_extension": ".py",
   "mimetype": "text/x-python",
   "name": "python",
   "nbconvert_exporter": "python",
   "pygments_lexer": "ipython2",
   "version": "2.7.6"
  }
 },
 "nbformat": 4,
 "nbformat_minor": 5
}
